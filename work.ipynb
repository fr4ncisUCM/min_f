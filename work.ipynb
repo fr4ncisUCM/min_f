{
 "cells": [
  {
   "cell_type": "markdown",
   "metadata": {},
   "source": [
    "### Lectura de datos"
   ]
  },
  {
   "cell_type": "code",
   "execution_count": 48,
   "metadata": {
    "collapsed": true,
    "ExecuteTime": {
     "end_time": "2024-04-25T10:45:19.985682400Z",
     "start_time": "2024-04-25T10:45:13.033413900Z"
    }
   },
   "outputs": [],
   "source": [
    "import pandas as pd\n",
    "# import px as px\n",
    "\n",
    "# Cambia 'tu_archivo.csv' por la ruta de tu archivo CSV\n",
    "archivo_csv = 'Data/bans.csv'\n",
    "dfBans = pd.read_csv(archivo_csv)\n",
    "\n",
    "\n",
    "archivo_csv = 'Data/gold.csv'\n",
    "dfGold = pd.read_csv(archivo_csv)\n",
    "\n",
    "archivo_csv = 'Data/kills.csv'\n",
    "dfKills = pd.read_csv(archivo_csv)\n",
    "\n",
    "archivo_csv = 'Data/monsters.csv'\n",
    "dfMonsters = pd.read_csv(archivo_csv)\n",
    "\n",
    "\n",
    "archivo_csv = 'Data/structures.csv'\n",
    "dfStructures = pd.read_csv(archivo_csv)\n",
    "\n",
    "\n",
    "archivo_csv = 'Data/matchinfo.csv'\n",
    "dfMarchinfo = pd.read_csv(archivo_csv)\n",
    "\n",
    "\n",
    "archivo_csv = 'Data/LeagueofLegends.csv'\n",
    "dfLeagueofLegends = pd.read_csv(archivo_csv)"
   ]
  },
  {
   "cell_type": "code",
   "execution_count": 49,
   "metadata": {
    "collapsed": false,
    "ExecuteTime": {
     "end_time": "2024-04-25T10:45:20.012529400Z",
     "start_time": "2024-04-25T10:45:19.973824100Z"
    }
   },
   "outputs": [
    {
     "data": {
      "text/plain": "Index(['League', 'Year', 'Season', 'Type', 'blueTeamTag', 'bResult', 'rResult',\n       'redTeamTag', 'gamelength', 'golddiff', 'goldblue', 'bKills', 'bTowers',\n       'bInhibs', 'bDragons', 'bBarons', 'bHeralds', 'goldred', 'rKills',\n       'rTowers', 'rInhibs', 'rDragons', 'rBarons', 'rHeralds', 'blueTop',\n       'blueTopChamp', 'goldblueTop', 'blueJungle', 'blueJungleChamp',\n       'goldblueJungle', 'blueMiddle', 'blueMiddleChamp', 'goldblueMiddle',\n       'blueADC', 'blueADCChamp', 'goldblueADC', 'blueSupport',\n       'blueSupportChamp', 'goldblueSupport', 'blueBans', 'redTop',\n       'redTopChamp', 'goldredTop', 'redJungle', 'redJungleChamp',\n       'goldredJungle', 'redMiddle', 'redMiddleChamp', 'goldredMiddle',\n       'redADC', 'redADCChamp', 'goldredADC', 'redSupport', 'redSupportChamp',\n       'goldredSupport', 'redBans', 'Address'],\n      dtype='object')"
     },
     "execution_count": 49,
     "metadata": {},
     "output_type": "execute_result"
    }
   ],
   "source": [
    "dfLeagueofLegends.columns"
   ]
  },
  {
   "cell_type": "code",
   "execution_count": 50,
   "metadata": {
    "ExecuteTime": {
     "end_time": "2024-04-25T10:45:20.114665200Z",
     "start_time": "2024-04-25T10:45:19.990675200Z"
    }
   },
   "outputs": [
    {
     "data": {
      "text/plain": "League              object\nYear                 int64\nSeason              object\nType                object\nblueTeamTag         object\nbResult              int64\nrResult              int64\nredTeamTag          object\ngamelength           int64\ngolddiff            object\ngoldblue            object\nbKills              object\nbTowers             object\nbInhibs             object\nbDragons            object\nbBarons             object\nbHeralds            object\ngoldred             object\nrKills              object\nrTowers             object\nrInhibs             object\nrDragons            object\nrBarons             object\nrHeralds            object\nblueTop             object\nblueTopChamp        object\ngoldblueTop         object\nblueJungle          object\nblueJungleChamp     object\ngoldblueJungle      object\nblueMiddle          object\nblueMiddleChamp     object\ngoldblueMiddle      object\nblueADC             object\nblueADCChamp        object\ngoldblueADC         object\nblueSupport         object\nblueSupportChamp    object\ngoldblueSupport     object\nblueBans            object\nredTop              object\nredTopChamp         object\ngoldredTop          object\nredJungle           object\nredJungleChamp      object\ngoldredJungle       object\nredMiddle           object\nredMiddleChamp      object\ngoldredMiddle       object\nredADC              object\nredADCChamp         object\ngoldredADC          object\nredSupport          object\nredSupportChamp     object\ngoldredSupport      object\nredBans             object\nAddress             object\ndtype: object"
     },
     "execution_count": 50,
     "metadata": {},
     "output_type": "execute_result"
    }
   ],
   "source": [
    "dfLeagueofLegends.dtypes"
   ]
  },
  {
   "cell_type": "markdown",
   "metadata": {},
   "source": [
    "### Estudio de los datos"
   ]
  },
  {
   "cell_type": "code",
   "execution_count": 51,
   "metadata": {
    "collapsed": false,
    "ExecuteTime": {
     "end_time": "2024-04-25T10:45:20.165669800Z",
     "start_time": "2024-04-25T10:45:20.020531600Z"
    }
   },
   "outputs": [
    {
     "name": "stdout",
     "output_type": "stream",
     "text": [
      "Irelia\n"
     ]
    }
   ],
   "source": [
    "print(dfMarchinfo.iloc[0]['blueTopChamp'])"
   ]
  },
  {
   "cell_type": "code",
   "execution_count": 52,
   "metadata": {
    "ExecuteTime": {
     "end_time": "2024-04-25T10:45:21.784351600Z",
     "start_time": "2024-04-25T10:45:20.041671800Z"
    }
   },
   "outputs": [
    {
     "data": {
      "text/plain": "{'Irelia': 228,\n 'Rengar': 320,\n 'Fizz': 181,\n 'Sivir': 883,\n 'Annie': 148,\n 'Gnar': 646,\n 'Janna': 464,\n 'JarvanIV': 600,\n 'Lulu': 640,\n 'Corki': 851,\n 'Thresh': 1005,\n 'Renekton': 290,\n 'Azir': 492,\n 'Caitlyn': 565,\n 'Kassadin': 213,\n 'Orianna': 629,\n 'Nami': 295,\n 'Morgana': 314,\n 'Graves': 672,\n 'Vi': 42,\n 'Lissandra': 291,\n 'Sion': 64,\n 'Kalista': 712,\n 'Blitzcrank': 112,\n 'Leblanc': 432,\n 'Rumble': 571,\n 'Zed': 203,\n 'Maokai': 947,\n 'LeeSin': 686,\n 'Xerath': 60,\n 'Tristana': 424,\n 'KogMaw': 276,\n 'Ahri': 341,\n 'RekSai': 1125,\n 'Jinx': 117,\n 'Ezreal': 695,\n 'Jax': 111,\n 'Nidalee': 418,\n 'Leona': 76,\n 'Nunu': 78,\n 'Braum': 1023,\n 'Veigar': 19,\n 'Hecarim': 200,\n 'Kennen': 197,\n 'Sejuani': 291,\n 'Karthus': 20,\n 'Yasuo': 52,\n 'Lucian': 841,\n 'Gragas': 1339,\n 'Vayne': 101,\n 'Nautilus': 569,\n 'Urgot': 54,\n 'Zac': 177,\n 'Chogath': 167,\n 'Vladimir': 299,\n 'Draven': 31,\n 'Cassiopeia': 485,\n 'Alistar': 799,\n 'Viktor': 545,\n 'Malphite': 72,\n 'Varus': 769,\n 'Ryze': 444,\n 'Bard': 354,\n 'Ekko': 367,\n 'Ashe': 793,\n 'TwistedFate': 154,\n 'Jayce': 263,\n 'Evelynn': 68,\n 'Shen': 671,\n 'Diana': 45,\n 'Karma': 755,\n 'Olaf': 190,\n 'Shyvana': 25,\n 'Elise': 1044,\n 'Twitch': 144,\n 'Khazix': 524,\n 'Soraka': 75,\n 'DrMundo': 34,\n 'Fiora': 267,\n 'Trundle': 589,\n 'Syndra': 521,\n 'TahmKench': 419,\n 'Poppy': 409,\n 'Gangplank': 262,\n 'Lux': 43,\n 'Kindred': 181,\n 'Zilean': 129,\n 'Quinn': 49,\n 'Udyr': 12,\n 'Pantheon': 16,\n 'Jhin': 699,\n 'Riven': 27,\n 'Zyra': 361,\n 'Swain': 74,\n 'Anivia': 65,\n 'Ziggs': 57,\n 'Taliyah': 387,\n 'AurelionSol': 54,\n 'Malzahar': 374,\n 'Taric': 142,\n 'Illaoi': 18,\n 'Sona': 18,\n 'Velkoz': 28,\n 'MissFortune': 107,\n 'Katarina': 20,\n 'Camille': 242,\n 'Ivern': 127,\n 'Singed': 18,\n 'Mordekaiser': 9,\n 'Kled': 129,\n 'Talon': 50,\n 'Galio': 215,\n 'Xayah': 257,\n 'Rakan': 185,\n 'Kayn': 14,\n 'Nocturne': 16,\n 'Shaco': 3,\n 'Rammus': 39,\n 'Warwick': 25,\n 'Kayle': 12,\n 'Brand': 29,\n 'Fiddlesticks': 2,\n 'Nasus': 4,\n 'Heimerdinger': 3,\n 'MasterYi': 2,\n 'Amumu': 2,\n 'Akali': 5,\n 'Skarner': 7,\n 'Darius': 25,\n 'Yorick': 1,\n 'XinZhao': 5,\n 'Teemo': 1,\n 'MonkeyKing': 1,\n 'Aatrox': 2,\n 'FiddleSticks': 1,\n 'Ornn': 39,\n 'Zoe': 14}"
     },
     "execution_count": 52,
     "metadata": {},
     "output_type": "execute_result"
    }
   ],
   "source": [
    "# Campeones con mas winrate\n",
    "champs = {}\n",
    "winrate2 = dfMarchinfo.copy()\n",
    "winrate = {}\n",
    "# Define tu función\n",
    "def mi_funcion(row):\n",
    "    blue_columns = ['blueTopChamp', 'blueJungleChamp', 'blueMiddleChamp', 'blueADCChamp', 'blueSupportChamp']\n",
    "    red_columns = ['redTopChamp', 'redJungleChamp', 'redMiddleChamp', 'redADCChamp', 'redSupportChamp']\n",
    "\n",
    "    for col in blue_columns:\n",
    "        if row[col] in champs:\n",
    "            champs[row[col]] += 1\n",
    "            if row['bResult'] == 1:\n",
    "                if row[col] in winrate:\n",
    "                    winrate[row[col]] += 1\n",
    "                else:\n",
    "                    winrate[row[col]] = 1\n",
    "        else:\n",
    "            champs[row[col]] = 1\n",
    "\n",
    "    for col in red_columns:\n",
    "        if row[col] in champs:\n",
    "            champs[row[col]] += 1\n",
    "            if row['rResult'] == 1:\n",
    "                if row[col] in winrate:\n",
    "                    winrate[row[col]] += 1\n",
    "                else:\n",
    "                    winrate[row[col]] = 1\n",
    "        else:\n",
    "            champs[row[col]] = 1\n",
    "\n",
    "# Aplica la función a todas las filas utilizando apply()\n",
    "winrate2.apply(mi_funcion, axis=1)\n",
    "winrate"
   ]
  },
  {
   "cell_type": "code",
   "execution_count": 53,
   "metadata": {
    "collapsed": false,
    "ExecuteTime": {
     "end_time": "2024-04-25T10:45:21.845184500Z",
     "start_time": "2024-04-25T10:45:21.783352700Z"
    }
   },
   "outputs": [
    {
     "name": "stdout",
     "output_type": "stream",
     "text": [
      "               picks    wins    winrate\n",
      "Gragas        2555.0  1339.0  52.407045\n",
      "RekSai        2330.0  1125.0  48.283262\n",
      "Braum         2115.0  1023.0  48.368794\n",
      "Elise         2065.0  1044.0  50.556901\n",
      "Thresh        1923.0  1005.0  52.262090\n",
      "...              ...     ...        ...\n",
      "MonkeyKing       4.0     1.0  25.000000\n",
      "Volibear         4.0     0.0   0.000000\n",
      "Garen            2.0     0.0   0.000000\n",
      "FiddleSticks     2.0     1.0  50.000000\n",
      "Tryndamere       1.0     0.0   0.000000\n",
      "\n",
      "[140 rows x 3 columns]\n"
     ]
    }
   ],
   "source": [
    "# Crear el DataFrame a partir de los diccionarios y transponerlo\n",
    "df = pd.DataFrame([champs, winrate]).T\n",
    "\n",
    "# Renombrar las columnas\n",
    "df.columns = ['picks', 'wins']\n",
    "df['winrate'] = df['wins'] / (df['picks']) * 100\n",
    "df.fillna(0, inplace=True)\n",
    "df.sort_values('picks', ascending=False, inplace=True)\n",
    "print(df)"
   ]
  },
  {
   "cell_type": "code",
   "execution_count": 54,
   "metadata": {
    "collapsed": false,
    "ExecuteTime": {
     "end_time": "2024-04-25T10:45:22.733011200Z",
     "start_time": "2024-04-25T10:45:21.830191100Z"
    }
   },
   "outputs": [
    {
     "data": {
      "text/plain": "0        None\n1        None\n2        None\n3        None\n4        None\n         ... \n15235    None\n15236    None\n15237    None\n15238    None\n15239    None\nLength: 15240, dtype: object"
     },
     "execution_count": 54,
     "metadata": {},
     "output_type": "execute_result"
    }
   ],
   "source": [
    "df_bans = dfBans.copy()\n",
    "bans = {}\n",
    "def contar_bans(x):\n",
    "    for i in range(1, 6):  # Itera sobre los números de las columnas\n",
    "        ban_col = f'ban_{i}'  # Nombre de la columna\n",
    "        if not pd.isnull(x[ban_col]):  # Verifica si el valor no es NaN\n",
    "            if x[ban_col] in bans:\n",
    "                bans[x[ban_col]] += 1\n",
    "            else:\n",
    "                bans[x[ban_col]] = 1\n",
    "\n",
    "df_bans.apply(contar_bans, axis=1)"
   ]
  },
  {
   "cell_type": "code",
   "execution_count": 55,
   "metadata": {
    "collapsed": false,
    "ExecuteTime": {
     "end_time": "2024-04-25T10:45:22.754431800Z",
     "start_time": "2024-04-25T10:45:22.735012700Z"
    }
   },
   "outputs": [
    {
     "name": "stdout",
     "output_type": "stream",
     "text": [
      "              bans   banratio\n",
      "Leblanc       2477  32.502296\n",
      "Kalista       1959  25.705288\n",
      "Ryze          1896  24.878625\n",
      "Elise         1577  20.692822\n",
      "Shen          1571  20.614093\n",
      "...            ...        ...\n",
      "FiddleSticks     2   0.026243\n",
      "Fiddlesticks     2   0.026243\n",
      "Garen            2   0.026243\n",
      "Amumu            1   0.013122\n",
      "Volibear         1   0.013122\n",
      "\n",
      "[137 rows x 2 columns]\n"
     ]
    }
   ],
   "source": [
    "# Crear el DataFrame a partir de los diccionarios y transponerlo\n",
    "dfB = pd.DataFrame([bans]).T\n",
    "\n",
    "# Renombrar las columnas\n",
    "dfB.columns = ['bans']\n",
    "dfB['banratio'] = dfB['bans'] / 7621 * 100\n",
    "dfB.sort_values('banratio', ascending=False, inplace=True)\n",
    "print(dfB)"
   ]
  },
  {
   "cell_type": "code",
   "execution_count": 56,
   "metadata": {
    "collapsed": false,
    "ExecuteTime": {
     "end_time": "2024-04-25T10:45:22.871407900Z",
     "start_time": "2024-04-25T10:45:22.750433600Z"
    }
   },
   "outputs": [
    {
     "data": {
      "text/plain": "               picks    wins    winrate  bans   banratio\nGragas        2555.0  1339.0  52.407045   956  12.544286\nRekSai        2330.0  1125.0  48.283262   966  12.675502\nBraum         2115.0  1023.0  48.368794   618   8.109172\nElise         2065.0  1044.0  50.556901  1577  20.692822\nThresh        1923.0  1005.0  52.262090  1140  14.958667\n...              ...     ...        ...   ...        ...\nHeimerdinger     6.0     3.0  50.000000     4   0.052487\nMasterYi         6.0     2.0  33.333333     4   0.052487\nVolibear         4.0     0.0   0.000000     1   0.013122\nGaren            2.0     0.0   0.000000     2   0.026243\nFiddleSticks     2.0     1.0  50.000000     2   0.026243\n\n[137 rows x 5 columns]",
      "text/html": "<div>\n<style scoped>\n    .dataframe tbody tr th:only-of-type {\n        vertical-align: middle;\n    }\n\n    .dataframe tbody tr th {\n        vertical-align: top;\n    }\n\n    .dataframe thead th {\n        text-align: right;\n    }\n</style>\n<table border=\"1\" class=\"dataframe\">\n  <thead>\n    <tr style=\"text-align: right;\">\n      <th></th>\n      <th>picks</th>\n      <th>wins</th>\n      <th>winrate</th>\n      <th>bans</th>\n      <th>banratio</th>\n    </tr>\n  </thead>\n  <tbody>\n    <tr>\n      <th>Gragas</th>\n      <td>2555.0</td>\n      <td>1339.0</td>\n      <td>52.407045</td>\n      <td>956</td>\n      <td>12.544286</td>\n    </tr>\n    <tr>\n      <th>RekSai</th>\n      <td>2330.0</td>\n      <td>1125.0</td>\n      <td>48.283262</td>\n      <td>966</td>\n      <td>12.675502</td>\n    </tr>\n    <tr>\n      <th>Braum</th>\n      <td>2115.0</td>\n      <td>1023.0</td>\n      <td>48.368794</td>\n      <td>618</td>\n      <td>8.109172</td>\n    </tr>\n    <tr>\n      <th>Elise</th>\n      <td>2065.0</td>\n      <td>1044.0</td>\n      <td>50.556901</td>\n      <td>1577</td>\n      <td>20.692822</td>\n    </tr>\n    <tr>\n      <th>Thresh</th>\n      <td>1923.0</td>\n      <td>1005.0</td>\n      <td>52.262090</td>\n      <td>1140</td>\n      <td>14.958667</td>\n    </tr>\n    <tr>\n      <th>...</th>\n      <td>...</td>\n      <td>...</td>\n      <td>...</td>\n      <td>...</td>\n      <td>...</td>\n    </tr>\n    <tr>\n      <th>Heimerdinger</th>\n      <td>6.0</td>\n      <td>3.0</td>\n      <td>50.000000</td>\n      <td>4</td>\n      <td>0.052487</td>\n    </tr>\n    <tr>\n      <th>MasterYi</th>\n      <td>6.0</td>\n      <td>2.0</td>\n      <td>33.333333</td>\n      <td>4</td>\n      <td>0.052487</td>\n    </tr>\n    <tr>\n      <th>Volibear</th>\n      <td>4.0</td>\n      <td>0.0</td>\n      <td>0.000000</td>\n      <td>1</td>\n      <td>0.013122</td>\n    </tr>\n    <tr>\n      <th>Garen</th>\n      <td>2.0</td>\n      <td>0.0</td>\n      <td>0.000000</td>\n      <td>2</td>\n      <td>0.026243</td>\n    </tr>\n    <tr>\n      <th>FiddleSticks</th>\n      <td>2.0</td>\n      <td>1.0</td>\n      <td>50.000000</td>\n      <td>2</td>\n      <td>0.026243</td>\n    </tr>\n  </tbody>\n</table>\n<p>137 rows × 5 columns</p>\n</div>"
     },
     "execution_count": 56,
     "metadata": {},
     "output_type": "execute_result"
    }
   ],
   "source": [
    "result2 = pd.merge(df, dfB, left_index=True, right_index=True)\n",
    "result2_reset_index = result2.reset_index()\n",
    "result2"
   ]
  },
  {
   "cell_type": "code",
   "execution_count": 57,
   "metadata": {
    "collapsed": false,
    "ExecuteTime": {
     "end_time": "2024-04-25T10:45:22.889387500Z",
     "start_time": "2024-04-25T10:45:22.786743500Z"
    }
   },
   "outputs": [
    {
     "ename": "ModuleNotFoundError",
     "evalue": "No module named 'plotly'",
     "output_type": "error",
     "traceback": [
      "\u001B[1;31m---------------------------------------------------------------------------\u001B[0m",
      "\u001B[1;31mModuleNotFoundError\u001B[0m                       Traceback (most recent call last)",
      "Cell \u001B[1;32mIn[57], line 1\u001B[0m\n\u001B[1;32m----> 1\u001B[0m \u001B[38;5;28;01mimport\u001B[39;00m \u001B[38;5;21;01mplotly\u001B[39;00m\u001B[38;5;21;01m.\u001B[39;00m\u001B[38;5;21;01mexpress\u001B[39;00m \u001B[38;5;28;01mas\u001B[39;00m \u001B[38;5;21;01mpx\u001B[39;00m\n\u001B[0;32m      2\u001B[0m result2 \u001B[38;5;241m=\u001B[39m result2\u001B[38;5;241m.\u001B[39mhead(\u001B[38;5;241m10\u001B[39m)\n\u001B[0;32m      3\u001B[0m fig \u001B[38;5;241m=\u001B[39m px\u001B[38;5;241m.\u001B[39mscatter_3d(result2,\n\u001B[0;32m      4\u001B[0m       x\u001B[38;5;241m=\u001B[39m\u001B[38;5;124m'\u001B[39m\u001B[38;5;124mpicks\u001B[39m\u001B[38;5;124m'\u001B[39m,\n\u001B[0;32m      5\u001B[0m       y \u001B[38;5;241m=\u001B[39m\u001B[38;5;124m'\u001B[39m\u001B[38;5;124mwins\u001B[39m\u001B[38;5;124m'\u001B[39m,\n\u001B[0;32m      6\u001B[0m       z\u001B[38;5;241m=\u001B[39m \u001B[38;5;124m'\u001B[39m\u001B[38;5;124mbans\u001B[39m\u001B[38;5;124m'\u001B[39m,\n\u001B[0;32m      7\u001B[0m       color \u001B[38;5;241m=\u001B[39m result2\u001B[38;5;241m.\u001B[39mindex\n\u001B[0;32m      8\u001B[0m )\n",
      "\u001B[1;31mModuleNotFoundError\u001B[0m: No module named 'plotly'"
     ]
    }
   ],
   "source": [
    "import plotly.express as px\n",
    "result2 = result2.head(10)\n",
    "fig = px.scatter_3d(result2,\n",
    "      x='picks',\n",
    "      y ='wins',\n",
    "      z= 'bans',\n",
    "      color = result2.index\n",
    ")\n",
    "fig.show()"
   ]
  },
  {
   "cell_type": "code",
   "execution_count": null,
   "metadata": {
    "collapsed": false,
    "ExecuteTime": {
     "start_time": "2024-04-25T10:45:22.822389500Z"
    }
   },
   "outputs": [],
   "source": [
    "import matplotlib.pyplot as plt\n",
    "\n",
    "p_df = df.head(10)\n",
    "p_df = p_df['winrate']\n",
    "p_df\n",
    "# Crea el gráfico de barras horizontal\n",
    "plt.barh(p_df.index, p_df, color='skyblue')\n",
    "plt.xlabel('Valor')\n",
    "plt.ylabel('Indice')\n",
    "plt.title('Gráfico de Barras Horizontal con una sola columna')\n",
    "plt.show()"
   ]
  },
  {
   "cell_type": "code",
   "execution_count": null,
   "metadata": {
    "collapsed": false,
    "ExecuteTime": {
     "start_time": "2024-04-25T10:45:22.827388800Z"
    }
   },
   "outputs": [],
   "source": [
    "# Campeones con mas winrate\n",
    "s = {}\n",
    "winrate3 = dfMarchinfo.copy()\n",
    "winrate_players = {}\n",
    "# Define tu función\n",
    "def mi_funcion(row):\n",
    "        if row['blueTop'] in s: # No esta en el resgistros de campeones\n",
    "            s[row['blueTop']] += 1\n",
    "            if row['bResult'] == 1: # Si ganaron\n",
    "                if row['blueTop'] in winrate_players: # No esta en el registro de ganadores\n",
    "                    winrate_players[row['blueTop']] += 1\n",
    "                else:\n",
    "                    winrate_players[row['blueTop']] = 1\n",
    "        else:\n",
    "            s[row['blueTop']] = 1\n",
    "\n",
    "        if row['blueJungle'] in s: # No esta en el resgistros de campeones\n",
    "            s[row['blueJungle']] += 1\n",
    "            if row['bResult'] == 1: # Si ganaron\n",
    "                if row['blueJungle'] in winrate_players: # No esta en el registro de ganadores\n",
    "                    winrate_players[row['blueJungle']] += 1\n",
    "                else:\n",
    "                    winrate_players[row['blueJungle']] = 1\n",
    "        else:\n",
    "            s[row['blueJungle']] = 1\n",
    "\n",
    "        if row['blueMiddle'] in s: # No esta en el resgistros de campeones\n",
    "            s[row['blueMiddle']] += 1\n",
    "            if row['bResult'] == 1: # Si ganaron\n",
    "                if row['blueMiddle'] in winrate_players: # No esta en el registro de ganadores\n",
    "                    winrate_players[row['blueMiddle']] += 1\n",
    "                else:\n",
    "                    winrate_players[row['blueMiddle']] = 1\n",
    "        else:\n",
    "            s[row['blueMiddle']] = 1\n",
    "\n",
    "        if row['blueADC'] in s: # No esta en el resgistros de campeones\n",
    "            s[row['blueADC']] += 1\n",
    "            if row['bResult'] == 1: # Si ganaron\n",
    "                if row['blueADC'] in winrate_players: # No esta en el registro de ganadores\n",
    "                    winrate_players[row['blueADC']] += 1\n",
    "                else:\n",
    "                    winrate_players[row['blueADC']] = 1\n",
    "        else:\n",
    "            s[row['blueADC']] = 1\n",
    "\n",
    "        if row['blueSupport'] in s: # No esta en el resgistros de campeones\n",
    "            s[row['blueSupport']] += 1\n",
    "            if row['bResult'] == 1: # Si ganaron\n",
    "                if row['blueSupport'] in winrate_players: # No esta en el registro de ganadores\n",
    "                    winrate_players[row['blueSupport']] += 1\n",
    "                else:\n",
    "                    winrate_players[row['blueSupport']] = 1\n",
    "        else:\n",
    "            s[row['blueSupport']] = 1\n",
    "\n",
    "        if row['redTop'] in s: # No esta en el resgistros de campeones\n",
    "            s[row['redTop']] += 1\n",
    "            if row['rResult'] == 1: # Si ganaron\n",
    "                if row['redTop'] in winrate_players: # No esta en el registro de ganadores\n",
    "                    winrate_players[row['redTop']] += 1\n",
    "                else:\n",
    "                    winrate_players[row['redTop']] = 1\n",
    "        else:\n",
    "            s[row['redTop']] = 1\n",
    "\n",
    "        if row['redJungle'] in s: # No esta en el resgistros de campeones\n",
    "            s[row['redJungle']] += 1\n",
    "            if row['rResult'] == 1: # Si ganaron\n",
    "                if row['redJungle'] in winrate_players: # No esta en el registro de ganadores\n",
    "                    winrate_players[row['redJungle']] += 1\n",
    "                else:\n",
    "                    winrate_players[row['redJungle']] = 1\n",
    "        else:\n",
    "            s[row['redJungle']] = 1\n",
    "\n",
    "        if row['redMiddle'] in s: # No esta en el resgistros de campeones\n",
    "            s[row['redMiddle']] += 1\n",
    "            if row['rResult'] == 1: # Si ganaron\n",
    "                if row['redMiddle'] in winrate_players: # No esta en el registro de ganadores\n",
    "                    winrate_players[row['redMiddle']] += 1\n",
    "                else:\n",
    "                    winrate_players[row['redMiddle']] = 1\n",
    "        else:\n",
    "            s[row['redMiddle']] = 1\n",
    "\n",
    "        if row['redADC'] in s: # No esta en el resgistros de campeones\n",
    "            s[row['redADC']] += 1\n",
    "            if row['rResult'] == 1: # Si ganaron\n",
    "                if row['redADC'] in winrate_players: # No esta en el registro de ganadores\n",
    "                    winrate_players[row['redADC']] += 1\n",
    "                else:\n",
    "                    winrate_players[row['redADC']] = 1\n",
    "        else:\n",
    "            s[row['redADC']] = 1\n",
    "\n",
    "        if row['redSupport'] in s: # No esta en el resgistros de campeones\n",
    "            s[row['redSupport']] += 1\n",
    "            if row['rResult'] == 1: # Si ganaron\n",
    "                if row['redSupport'] in winrate_players: # No esta en el registro de ganadores\n",
    "                    winrate_players[row['redSupport']] += 1\n",
    "                else:\n",
    "                    winrate_players[row['redSupport']] = 1\n",
    "        else:\n",
    "            s[row['redSupport']] = 1\n",
    "\n",
    "# Aplica la función a todas las filas utilizando apply()\n",
    "winrate3.apply(mi_funcion, axis=1)"
   ]
  },
  {
   "cell_type": "code",
   "execution_count": null,
   "metadata": {
    "collapsed": false,
    "ExecuteTime": {
     "start_time": "2024-04-25T10:45:22.833388500Z"
    }
   },
   "outputs": [],
   "source": [
    "# Crear el DataFrame a partir de los diccionarios y transponerlo\n",
    "df2 = pd.DataFrame([s, winrate_players]).T\n",
    "\n",
    "\n",
    "# Renombrar las columnas\n",
    "df2.columns = ['partidos', 'wins']\n",
    "\n",
    "df2['winrate'] = df2['wins'] / df2['partidos'] * 100\n",
    "df2.fillna(0, inplace=True)\n",
    "df2.sort_values('winrate', ascending=False, inplace=True)\n",
    "\n",
    "print(df2)"
   ]
  },
  {
   "cell_type": "code",
   "execution_count": null,
   "metadata": {
    "collapsed": false,
    "ExecuteTime": {
     "start_time": "2024-04-25T10:45:22.839386100Z"
    }
   },
   "outputs": [],
   "source": [
    "from mrjob.job import MRJob\n",
    "import pandas as pd\n",
    "\n",
    "class MyMRJob(MRJob):\n",
    "\n",
    "    def mapper(self, _, line):\n",
    "        row = pd.read_csv('Data/matchinfo.csv')\n",
    "        results = {}\n",
    "\n",
    "        for col in ['blueTop', 'blueJungle', 'blueMiddle', 'blueADC', 'blueSupport',\n",
    "                    'redTop', 'redJungle', 'redMiddle', 'redADC', 'redSupport']:\n",
    "            if row[col] in results:\n",
    "                results[row[col]] += 1\n",
    "            else:\n",
    "                results[row[col]] = 1\n",
    "\n",
    "        yield None, results\n",
    "\n",
    "    def reducer(self, _, results):\n",
    "        total_result = {}\n",
    "        for result in results:\n",
    "            for champ, count in result.items():\n",
    "                if champ in total_result:\n",
    "                    total_result[champ] += count\n",
    "                else:\n",
    "                    total_result[champ] = count\n",
    "        yield None, total_result\n",
    "\n",
    "if __name__ == '__main__':\n",
    "    MyMRJob.run()\n"
   ]
  },
  {
   "cell_type": "code",
   "execution_count": null,
   "metadata": {
    "collapsed": false,
    "ExecuteTime": {
     "start_time": "2024-04-25T10:45:22.845388300Z"
    }
   },
   "outputs": [],
   "source": []
  },
  {
   "cell_type": "markdown",
   "metadata": {},
   "source": [
    "### Preprocesado"
   ]
  },
  {
   "cell_type": "code",
   "execution_count": null,
   "metadata": {
    "ExecuteTime": {
     "start_time": "2024-04-25T10:45:22.849387100Z"
    }
   },
   "outputs": [],
   "source": [
    "df15 = dfLeagueofLegends.copy()"
   ]
  },
  {
   "cell_type": "markdown",
   "metadata": {},
   "source": [
    "#### Torres tiradas toplane, botlnae, midlane y inibidores"
   ]
  },
  {
   "cell_type": "code",
   "execution_count": null,
   "metadata": {
    "ExecuteTime": {
     "start_time": "2024-04-25T10:45:22.855386900Z"
    }
   },
   "outputs": [],
   "source": [
    "df_t_pos = dfStructures.copy()\n",
    "df_t_pos = df_t_pos[df_t_pos['Time'] < 15]\n",
    "df_t_pos.drop('Time', inplace=True, axis=1)\n",
    "\n",
    "df_t_pos = df_t_pos.groupby(['Address','Team','Lane']).count().reset_index()\n",
    "print(df_t_pos.head())"
   ]
  },
  {
   "cell_type": "code",
   "execution_count": null,
   "metadata": {
    "ExecuteTime": {
     "start_time": "2024-04-25T10:45:22.862388600Z"
    }
   },
   "outputs": [],
   "source": [
    "df15['bTopTowers'] = 0\n",
    "df15['bMiddleTowers'] = 0\n",
    "df15['bBotTowers'] = 0\n",
    "\n",
    "df15['redTopTowers'] = 0\n",
    "df15['redMiddleTowers'] = 0\n",
    "df15['redBotTowers'] = 0\n",
    "\n",
    "def recorrer(row):   \n",
    "    aux = df_t_pos[df_t_pos['Address']==row['Address']]\n",
    "    if not aux.empty:\n",
    "        for index, row2 in aux.iterrows():\n",
    "            v = row2['Type']\n",
    "            if row2['Team'] == 'bTowers':\n",
    "                if row2['Lane'] == 'TOP_LANE':\n",
    "                    row['bTopTowers'] = v\n",
    "                if row2['Lane'] == 'MID_LANE':\n",
    "                    row['bMiddleTowers'] = v\n",
    "                if row2['Lane'] == 'BOT_LANE':\n",
    "                    row['bBotTowers'] = v\n",
    "            else:\n",
    "                if row2['Lane'] == 'TOP_LANE':\n",
    "                    row['redTopTowers'] = v\n",
    "                if row2['Lane'] == 'MID_LANE':\n",
    "                    row['redMiddleTowers'] = v\n",
    "                if row2['Lane'] == 'BOT_LANE':\n",
    "                    row['redBotTowers'] = v\n",
    "    return row\n",
    "    \n",
    "    \n",
    "df15 = df15.apply(recorrer, axis=1)\n",
    "df15.head()  \n",
    "    "
   ]
  },
  {
   "cell_type": "markdown",
   "metadata": {},
   "source": [
    "#### Filtrar oro a min 15"
   ]
  },
  {
   "cell_type": "code",
   "execution_count": null,
   "metadata": {
    "ExecuteTime": {
     "start_time": "2024-04-25T10:45:22.872387700Z"
    }
   },
   "outputs": [],
   "source": [
    "def string_a_int_array(s):\n",
    "    # Removemos los corchetes al principio y al final\n",
    "    s = s.strip('[]')\n",
    "    # Dividimos los valores por las comas y eliminamos los espacios en blanco alrededor de cada valor\n",
    "    valores = [int(valor.strip()) for valor in s.split(',')]\n",
    "    return valores\n",
    "\n",
    "df15['golddiff'] = df15['golddiff'].map(lambda x: string_a_int_array(x)[15])\n",
    "df15['goldblue'] = df15['goldblue'].map(lambda x: string_a_int_array(x)[15])\n",
    "df15['goldred'] = df15['goldred'].map(lambda x: string_a_int_array(x)[15])\n",
    "\n",
    "df15['goldblueADC'] = df15['goldblueADC'].map(lambda x: string_a_int_array(x)[15])\n",
    "df15['goldredJungle'] = df15['goldredJungle'].map(lambda x: string_a_int_array(x)[15])\n",
    "df15['goldblueSupport'] = df15['goldblueSupport'].map(lambda x: string_a_int_array(x)[15])\n",
    "df15['goldblueTop'] = df15['goldblueTop'].map(lambda x: string_a_int_array(x)[15])\n",
    "df15['goldblueMiddle'] = df15['goldblueMiddle'].map(lambda x: string_a_int_array(x)[15])\n",
    "\n",
    "df15['goldredADC'] = df15['goldredADC'].map(lambda x: string_a_int_array(x)[15])\n",
    "df15['goldredSupport'] = df15['goldredSupport'].map(lambda x: string_a_int_array(x)[15])\n",
    "df15['goldredTop'] = df15['goldredTop'].map(lambda x: string_a_int_array(x)[15])\n",
    "df15['goldredMiddle'] = df15['goldredMiddle'].map(lambda x: string_a_int_array(x)[15])\n",
    "df15['goldblueJungle'] = df15['goldblueJungle'].map(lambda x: string_a_int_array(x)[15])\n",
    "\n",
    "df15 = df15.rename(columns={'golddiff': 'golddiff15', 'goldblue': 'goldblue15', 'goldred': 'goldred15', 'goldblueADC': 'goldblueADC15', 'goldredJungle': 'goldredJungle15', 'goldblueSupport': 'goldblueSupport15', 'goldblueTop': 'goldblueTop15', 'goldblueMiddle': 'goldblueMiddle15', 'goldredADC': 'goldredADC15', 'goldredSupport': 'goldredSupport15', 'goldredTop': 'goldredTop15', 'goldredMiddle': 'goldredMiddle15', 'goldblueJungle': 'goldblueJungle15'})\n",
    "df15.head()"
   ]
  },
  {
   "cell_type": "markdown",
   "metadata": {},
   "source": [
    "#### First kill"
   ]
  },
  {
   "cell_type": "code",
   "execution_count": null,
   "metadata": {
    "ExecuteTime": {
     "start_time": "2024-04-25T10:45:22.879387300Z"
    }
   },
   "outputs": [],
   "source": [
    "import json\n",
    "\n",
    "df15['BFirstKill'] = 0\n",
    "df15['RFirstKill'] = 0\n",
    "def get_first_kill(x):\n",
    "    a = resultado[resultado['Address'] == x['Address']]\n",
    "    if not a.empty:\n",
    "        team = a.iloc[0]['Team']\n",
    "        if team == 'bKills':\n",
    "            x['BFirstKill'] = 1\n",
    "        else:\n",
    "            x['RFirstKill'] = 1\n",
    "    return x\n",
    "\n",
    "\n",
    "indices_min_edad = dfKills.groupby('Address')['Time'].idxmin()\n",
    "resultado = dfKills.loc[indices_min_edad]\n",
    "resultado = resultado[resultado['Time'] < 15]\n",
    "resultado = resultado[['Address', 'Team', 'Time']]\n",
    "df15 = df15.apply(get_first_kill, axis=1)\n"
   ]
  },
  {
   "cell_type": "code",
   "execution_count": null,
   "metadata": {
    "ExecuteTime": {
     "start_time": "2024-04-25T10:45:22.886389100Z"
    }
   },
   "outputs": [],
   "source": [
    "df15.head()"
   ]
  },
  {
   "cell_type": "markdown",
   "metadata": {},
   "source": [
    "#### Baron, heraldo, y dragones"
   ]
  },
  {
   "cell_type": "code",
   "execution_count": null,
   "metadata": {
    "ExecuteTime": {
     "end_time": "2024-04-25T10:45:23.167384400Z",
     "start_time": "2024-04-25T10:45:22.894388800Z"
    }
   },
   "outputs": [],
   "source": [
    "dfM15 = dfMonsters[dfMonsters['Time']<15].drop('Time',axis=1).groupby(['Address','Team']).count().reset_index()\n",
    "\n",
    "df15['bDragons15'] = 0\n",
    "df15['rDragons15'] = 0\n",
    "df15['bHeralds15'] = 0\n",
    "df15['rHeralds15'] = 0\n",
    "#dfPrepro.drop('bBarons',axis=1,inplace=True)\n",
    "#dfPrepro.drop('rBarons',axis=1,inplace=True)\n",
    "\n",
    "def getMonster(row):\n",
    "    aux = dfM15[dfM15['Address']==row['Address']]\n",
    "    if not aux.empty:\n",
    "        for index, row2 in aux.iterrows():\n",
    "            v = row2['Type']\n",
    "            if row2['Team'] == 'bDragons':\n",
    "                row['bDragons15'] = v\n",
    "            elif row2['Team'] == 'rDragons':\n",
    "                row['rDragons15'] = v\n",
    "            elif row2['Team'] == 'bHeralds':\n",
    "                row['bHeralds15'] = v\n",
    "            elif row2['Team'] == 'rHeralds':\n",
    "                row['rHeralds15'] = v\n",
    "    return row\n",
    "\n",
    "df15=df15.apply(getMonster,axis=1)"
   ]
  },
  {
   "cell_type": "code",
   "execution_count": null,
   "metadata": {
    "ExecuteTime": {
     "start_time": "2024-04-25T10:45:22.904388600Z"
    }
   },
   "outputs": [],
   "source": [
    "df15.head()"
   ]
  },
  {
   "cell_type": "markdown",
   "metadata": {},
   "source": [
    "#### Kills por posicion"
   ]
  },
  {
   "cell_type": "code",
   "execution_count": null,
   "metadata": {
    "ExecuteTime": {
     "start_time": "2024-04-25T10:45:22.910387900Z"
    }
   },
   "outputs": [],
   "source": [
    "dfKills2 = dfKills[dfKills['Time']<15].drop(['Time','Team','Assist_1','Assist_3','Assist_2','Assist_4','x_pos','y_pos'],axis=1)\n",
    "dfKills2 = dfKills2.groupby(['Address','Killer']).count().reset_index()\n",
    "dfKills2['Killer'] = dfKills2['Killer'].str.split(expand=True)[1]\n",
    "dfKills2"
   ]
  },
  {
   "cell_type": "code",
   "execution_count": null,
   "metadata": {
    "collapsed": false,
    "ExecuteTime": {
     "start_time": "2024-04-25T10:45:22.918389200Z"
    }
   },
   "outputs": [],
   "source": [
    "df15['blueTopKills'] = 0\n",
    "df15['blueJungleKills'] = 0\n",
    "df15['blueMidKills'] = 0\n",
    "df15['blueADCKills'] = 0\n",
    "df15['blueSupportKills'] = 0\n",
    "df15['redTopKills'] = 0\n",
    "df15['redJungleKills'] = 0\n",
    "df15['redMidKills'] = 0\n",
    "df15['redADCKills'] = 0\n",
    "df15['redSupportKills'] = 0"
   ]
  },
  {
   "cell_type": "code",
   "execution_count": null,
   "metadata": {
    "ExecuteTime": {
     "start_time": "2024-04-25T10:45:22.925387200Z"
    }
   },
   "outputs": [],
   "source": [
    "info_c=[['blueTop', 'blueTopKills'], ['blueJungle', 'blueJungleKills'], ['blueMiddle', 'blueMidKills'], ['blueADC', 'blueADCKills'], ['blueSupport', 'blueSupportKills'], ['redTop', 'redTopKills'], ['redJungle', 'redJungleKills'], ['redMiddle', 'redMidKills'], ['redADC', 'redADCKills'], ['redSupport', 'redSupportKills']]\n",
    "def getKills(row):\n",
    "    aux = dfKills2[dfKills2['Address'] == row['Address']]\n",
    "    for x,y in info_c:\n",
    "        kills = aux[dfKills2['Killer'] == row[x]]\n",
    "        if not kills.empty:\n",
    "            row[y] = kills['Victim'].iloc[0]\n",
    "    return row"
   ]
  },
  {
   "cell_type": "code",
   "execution_count": null,
   "metadata": {
    "ExecuteTime": {
     "start_time": "2024-04-25T10:45:22.930389400Z"
    }
   },
   "outputs": [],
   "source": [
    "df15 = df15.apply(getKills,axis=1)\n",
    "df15.head()"
   ]
  },
  {
   "cell_type": "code",
   "execution_count": null,
   "metadata": {
    "ExecuteTime": {
     "start_time": "2024-04-25T10:45:22.933386800Z"
    }
   },
   "outputs": [],
   "source": [
    "dfDeath2 = dfKills[dfKills['Time']<15].drop(['Time','Team','Assist_1','Assist_3','Assist_2','Assist_4','x_pos','y_pos'],axis=1)\n",
    "dfDeath2 = dfDeath2.groupby(['Address','Victim']).count().reset_index()\n",
    "dfDeath2['Victim'] = dfDeath2['Victim'].str.split(expand=True)[1]\n",
    "dfDeath2"
   ]
  },
  {
   "cell_type": "code",
   "execution_count": null,
   "metadata": {
    "ExecuteTime": {
     "start_time": "2024-04-25T10:45:22.936386100Z"
    }
   },
   "outputs": [],
   "source": [
    "df15['blueTopDeath'] = 0\n",
    "df15['blueJungleDeath'] = 0\n",
    "df15['blueMidDeath'] = 0\n",
    "df15['blueADCDeath'] = 0\n",
    "df15['blueSupportDeath'] = 0\n",
    "df15['redTopDeath'] = 0\n",
    "df15['redJungleDeath'] = 0\n",
    "df15['redMidDeath'] = 0\n",
    "df15['redADCDeath'] = 0\n",
    "df15['redSupportDeath'] = 0"
   ]
  },
  {
   "cell_type": "code",
   "execution_count": null,
   "metadata": {
    "ExecuteTime": {
     "start_time": "2024-04-25T10:45:22.940385900Z"
    }
   },
   "outputs": [],
   "source": [
    "info_c=[['blueTop', 'blueTopDeath'], ['blueJungle', 'blueJungleDeath'], ['blueMiddle', 'blueMidDeath'], ['blueADC', 'blueADCDeath'], ['blueSupport', 'blueSupportDeath'], ['redTop', 'redTopDeath'], ['redJungle', 'redJungleDeath'], ['redMiddle', 'redMidDeath'], ['redADC', 'redADCDeath'], ['redSupport', 'redSupportDeath']]\n",
    "def getDeaths(row):\n",
    "    aux = dfDeath2[dfDeath2['Address'] == row['Address']]\n",
    "    for x,y in info_c:\n",
    "        kills = aux[dfDeath2['Victim'] == row[x]]\n",
    "        if not kills.empty:\n",
    "            row[y] = kills['Killer'].iloc[0]\n",
    "    return row"
   ]
  },
  {
   "cell_type": "code",
   "execution_count": null,
   "metadata": {
    "ExecuteTime": {
     "start_time": "2024-04-25T10:45:22.944384900Z"
    }
   },
   "outputs": [],
   "source": [
    "df15 = df15.apply(getDeaths,axis=1)\n",
    "df15.head()"
   ]
  },
  {
   "cell_type": "markdown",
   "metadata": {},
   "source": [
    "#### Eliminacion de columnas no necesarias"
   ]
  },
  {
   "cell_type": "code",
   "execution_count": null,
   "metadata": {
    "ExecuteTime": {
     "start_time": "2024-04-25T10:45:22.947386300Z"
    }
   },
   "outputs": [],
   "source": [
    "df15.columns"
   ]
  },
  {
   "cell_type": "code",
   "execution_count": null,
   "metadata": {
    "ExecuteTime": {
     "start_time": "2024-04-25T10:45:22.949385600Z"
    }
   },
   "outputs": [],
   "source": [
    "c_validas = [\n",
    "       'golddiff15', \n",
    "\n",
    "       'goldblue15',\n",
    "       'goldred15',\n",
    "\n",
    "       'goldblueTop15', 'goldblueJungle15','goldblueMiddle15', 'goldblueADC15','goldblueSupport15',\n",
    "       'goldredTop15','goldredJungle15','goldredMiddle15','goldredADC15', 'goldredSupport15',\n",
    "\n",
    "       'bTopTowers', 'bMiddleTowers', 'bBotTowers', \n",
    "       'redTopTowers','redMiddleTowers', 'redBotTowers', \n",
    "\n",
    "       'BFirstKill', 'RFirstKill',\n",
    "\n",
    "       'bDragons15', 'rDragons15', \n",
    "       'bHeralds15', 'rHeralds15', \n",
    "\n",
    "       'blueTopKills','blueJungleKills', 'blueMidKills', 'blueADCKills', 'blueSupportKills',\n",
    "       'redTopKills', 'redJungleKills', 'redMidKills', 'redADCKills','redSupportKills',\n",
    "\n",
    "       'blueTopDeath', 'blueJungleDeath', 'blueMidDeath','blueADCDeath', 'blueSupportDeath',  \n",
    "       'redTopDeath', 'redJungleDeath','redMidDeath', 'redADCDeath', 'redSupportDeath',\n",
    "\n",
    "       'bResult']\n",
    "\n",
    "dfFinal = df15[c_validas]"
   ]
  },
  {
   "cell_type": "code",
   "execution_count": null,
   "metadata": {
    "ExecuteTime": {
     "start_time": "2024-04-25T10:45:22.951387300Z"
    }
   },
   "outputs": [],
   "source": [
    "len(c_validas)"
   ]
  },
  {
   "cell_type": "code",
   "execution_count": null,
   "metadata": {
    "ExecuteTime": {
     "start_time": "2024-04-25T10:45:22.954385900Z"
    }
   },
   "outputs": [],
   "source": [
    "dfFinal.to_csv('./Data/datosPreprocesados.csv', index=False)"
   ]
  },
  {
   "cell_type": "markdown",
   "metadata": {},
   "source": [
    "### Creacion de los modelos"
   ]
  },
  {
   "cell_type": "code",
   "execution_count": 59,
   "metadata": {
    "ExecuteTime": {
     "end_time": "2024-04-25T10:47:40.933480800Z",
     "start_time": "2024-04-25T10:47:40.845398100Z"
    }
   },
   "outputs": [
    {
     "data": {
      "text/plain": "golddiff15           int64\ngoldblue15           int64\ngoldred15            int64\ngoldblueTop15        int64\ngoldblueJungle15     int64\ngoldblueMiddle15     int64\ngoldblueADC15        int64\ngoldblueSupport15    int64\ngoldredTop15         int64\ngoldredJungle15      int64\ngoldredMiddle15      int64\ngoldredADC15         int64\ngoldredSupport15     int64\nbTopTowers           int64\nbMiddleTowers        int64\nbBotTowers           int64\nredTopTowers         int64\nredMiddleTowers      int64\nredBotTowers         int64\nBFirstKill           int64\nRFirstKill           int64\nbDragons15           int64\nrDragons15           int64\nbHeralds15           int64\nrHeralds15           int64\nblueTopKills         int64\nblueJungleKills      int64\nblueMidKills         int64\nblueADCKills         int64\nblueSupportKills     int64\nredTopKills          int64\nredJungleKills       int64\nredMidKills          int64\nredADCKills          int64\nredSupportKills      int64\nblueTopDeath         int64\nblueJungleDeath      int64\nblueMidDeath         int64\nblueADCDeath         int64\nblueSupportDeath     int64\nredTopDeath          int64\nredJungleDeath       int64\nredMidDeath          int64\nredADCDeath          int64\nredSupportDeath      int64\nbResult              int64\ndtype: object"
     },
     "execution_count": 59,
     "metadata": {},
     "output_type": "execute_result"
    }
   ],
   "source": [
    "import pandas as pd\n",
    "df = pd.read_csv('./Data/datosPreprocesados.csv')\n",
    "df.dtypes"
   ]
  },
  {
   "cell_type": "markdown",
   "metadata": {
    "collapsed": false
   },
   "source": [
    "#### Dividir los datos en entrenamiento y prueba"
   ]
  },
  {
   "cell_type": "code",
   "execution_count": 60,
   "metadata": {
    "collapsed": false,
    "ExecuteTime": {
     "end_time": "2024-04-25T10:48:00.462171800Z",
     "start_time": "2024-04-25T10:48:00.414076700Z"
    }
   },
   "outputs": [],
   "source": [
    "from sklearn.model_selection import train_test_split\n",
    "from sklearn.preprocessing import StandardScaler\n",
    "import numpy as np\n",
    "\n",
    "X = df.drop(['bResult'], axis=1) # Variables independientes\n",
    "y = df['bResult'] # Variable objetivo\n",
    "\n",
    "X_train, X_test, y_train, y_test= train_test_split(X, y, test_size=0.2, random_state=33)\n",
    "\n",
    "X_train, X_val, y_train, y_val = train_test_split(X_train,y_train,test_size=0.2,random_state=33)\n",
    "\n",
    "scaler = StandardScaler()\n",
    "X_train_scaled = scaler.fit_transform(X_train)\n",
    "X_test_scaled = scaler.transform(X_test)\n",
    "X_val_scaled = scaler.transform(X_val)\n",
    "\n",
    "class_names = np.unique(y_train)\n",
    "s_class_names = ['Red Win','Blue Win']\n",
    "feature_names = X.columns.tolist()"
   ]
  },
  {
   "cell_type": "code",
   "outputs": [],
   "source": [
    "acc_dict = {}"
   ],
   "metadata": {
    "collapsed": false,
    "ExecuteTime": {
     "end_time": "2024-04-25T10:48:04.030521900Z",
     "start_time": "2024-04-25T10:48:03.982514600Z"
    }
   },
   "execution_count": 61
  },
  {
   "cell_type": "markdown",
   "source": [
    "#### Naive Bayes"
   ],
   "metadata": {}
  },
  {
   "cell_type": "code",
   "outputs": [
    {
     "name": "stdout",
     "output_type": "stream",
     "text": [
      "BEST GAUSIAN NAIVE -> BernoulliNB()\n",
      "Accuracy: 0.7155737704918033\n"
     ]
    }
   ],
   "source": [
    "from sklearn.naive_bayes import GaussianNB, MultinomialNB, BernoulliNB\n",
    "from sklearn.metrics import classification_report, confusion_matrix\n",
    "modelos = [GaussianNB(), BernoulliNB()]\n",
    "best_modelos_id=-1\n",
    "best_accuracy=0\n",
    "for i,model in enumerate(modelos):\n",
    "    model.fit(X_train_scaled, y_train)\n",
    "    y_pred = model.predict(X_val_scaled)\n",
    "    accuracy = np.mean(y_pred == y_val)\n",
    "    if accuracy>best_accuracy:\n",
    "        best_accuracy=accuracy\n",
    "        best_modelos_id=i\n",
    "\n",
    "best_model = modelos[best_modelos_id]\n",
    "model.fit(X_train_scaled, y_train)\n",
    "y_pred = model.predict(X_val_scaled)\n",
    "accuracy = np.mean(y_pred == y_val)\n",
    "print(f'BEST GAUSIAN NAIVE -> {modelos[best_modelos_id]}\\nAccuracy: {accuracy}')\n",
    "acc_dict['GN'] = accuracy"
   ],
   "metadata": {
    "ExecuteTime": {
     "end_time": "2024-04-25T10:48:05.954798900Z",
     "start_time": "2024-04-25T10:48:05.801801700Z"
    }
   },
   "execution_count": 62
  },
  {
   "cell_type": "markdown",
   "source": [
    "#### Decision tree"
   ],
   "metadata": {}
  },
  {
   "cell_type": "code",
   "outputs": [
    {
     "name": "stdout",
     "output_type": "stream",
     "text": [
      "FINAL TREE params:\n",
      "   -MAX_DEPTH: 5\n",
      "   -BEST_CRITERION: gini\n",
      "Accuracy: 0.7327868852459016\n"
     ]
    },
    {
     "data": {
      "text/plain": "<Figure size 1500x1000 with 1 Axes>",
      "image/png": "[encoded data removed]"
     },
     "metadata": {},
     "output_type": "display_data"
    }
   ],
   "source": [
    "from sklearn.tree import DecisionTreeClassifier, plot_tree\n",
    "from sklearn.metrics import accuracy_score\n",
    "import matplotlib.pyplot as plt\n",
    "best_depth = 0\n",
    "best_accuracy = 0\n",
    "\n",
    "for i in range(1,15):\n",
    "    tree = DecisionTreeClassifier(random_state=33,max_depth=i) \n",
    "    tree.fit(X_train, y_train)\n",
    "    y_pred = tree.predict(X_val)\n",
    "    accuracy = accuracy_score(y_val, y_pred)\n",
    "    if accuracy > best_accuracy:\n",
    "        best_accuracy = accuracy\n",
    "        best_depth = i\n",
    "\n",
    "best_accuracy = 0\n",
    "options = [\"gini\", \"entropy\", \"log_loss\"]\n",
    "best_option = -1\n",
    "\n",
    "for i,op in enumerate(options):\n",
    "    tree = DecisionTreeClassifier(random_state=33,max_depth=best_depth, criterion=op) \n",
    "    tree.fit(X_train, y_train)\n",
    "    y_pred = tree.predict(X_val)\n",
    "    accuracy = accuracy_score(y_val, y_pred)\n",
    "    if accuracy > best_accuracy:\n",
    "        best_accuracy = accuracy\n",
    "        best_option = i\n",
    "\n",
    "\n",
    "tree_final = DecisionTreeClassifier(random_state=33,max_depth=best_depth, criterion=options[best_option])\n",
    "tree_final.fit(X_train, y_train)\n",
    "\n",
    "y_predfinal = tree_final.predict(X_val)\n",
    "accuracy2 = accuracy_score(y_val, y_predfinal)\n",
    "print(f'FINAL TREE params:\\n   -MAX_DEPTH: {best_depth}\\n   -BEST_CRITERION: {options[best_option]}\\nAccuracy: {accuracy2}')\n",
    "acc_dict['Tree'] = accuracy2\n",
    "plt.figure(figsize=(15, 10))\n",
    "plot_tree(tree_final, filled=True, feature_names=feature_names, class_names=s_class_names)\n",
    "plt.show()"
   ],
   "metadata": {
    "ExecuteTime": {
     "end_time": "2024-04-25T10:48:23.702074400Z",
     "start_time": "2024-04-25T10:48:09.314447400Z"
    }
   },
   "execution_count": 63
  },
  {
   "cell_type": "code",
   "outputs": [
    {
     "name": "stdout",
     "output_type": "stream",
     "text": [
      "Variables más importantes del árbol optimizado:\n",
      "1. golddiff15: 0.85496341967874\n",
      "2. rDragons15: 0.05125041632297752\n",
      "3. goldredMiddle15: 0.015060358172841482\n",
      "4. goldredTop15: 0.014660440964916687\n",
      "5. goldblueMiddle15: 0.009517809551143785\n",
      "6. goldredADC15: 0.008315953538514515\n",
      "7. blueTopKills: 0.008038225432857185\n"
     ]
    }
   ],
   "source": [
    "importances1 = tree_final.feature_importances_\n",
    "indices1 = np.argsort(importances1)[::-1]  # Ordenar las importancias de mayor a menor\n",
    "\n",
    "print(\"Variables más importantes del árbol optimizado:\")\n",
    "for i, idx in enumerate(indices1):\n",
    "    print(f\"{i+1}. {feature_names[idx]}: {importances1[idx]}\")\n",
    "    if i > best_depth:\n",
    "        break"
   ],
   "metadata": {
    "ExecuteTime": {
     "end_time": "2024-04-25T10:48:59.071968700Z",
     "start_time": "2024-04-25T10:48:59.011807900Z"
    }
   },
   "execution_count": 64
  },
  {
   "cell_type": "markdown",
   "metadata": {},
   "source": [
    "#### K-Nearest Neighbors (KNN)"
   ]
  },
  {
   "cell_type": "code",
   "execution_count": 65,
   "metadata": {
    "ExecuteTime": {
     "end_time": "2024-04-25T10:49:15.874722200Z",
     "start_time": "2024-04-25T10:49:02.414200200Z"
    }
   },
   "outputs": [
    {
     "name": "stdout",
     "output_type": "stream",
     "text": [
      "FINAL KNN params:\n",
      "   -K: 9\n",
      "   -BEST_WEIGHTS: uniform\n",
      "   -BEST_ALGORITHM: ball_tree\n",
      "   -BEST_METRIC: minkowski\n",
      "Accuracy: 0.6950819672131148\n"
     ]
    }
   ],
   "source": [
    "from sklearn.neighbors import KNeighborsClassifier\n",
    "best_accuracy =0\n",
    "best_k = 0\n",
    "for i in range(1,10):\n",
    "    knn = KNeighborsClassifier(n_neighbors=i)\n",
    "    knn.fit(X_train_scaled, y_train)\n",
    "    y_pred1 = knn.predict(X_val_scaled)\n",
    "    accuracy1 = accuracy_score(y_val, y_pred1)\n",
    "    if accuracy1 > best_accuracy:\n",
    "        best_accuracy = accuracy1\n",
    "        best_k = i\n",
    "\n",
    "\n",
    "best_accuracy=0\n",
    "op_w = ['uniform', 'distance']\n",
    "best_op_w = -1\n",
    "for i,op in enumerate(op_w):\n",
    "    knn = KNeighborsClassifier(n_neighbors=best_k, weights=op)\n",
    "    knn.fit(X_train_scaled, y_train)\n",
    "    y_pred1 = knn.predict(X_val_scaled)\n",
    "    accuracy1 = accuracy_score(y_val, y_pred1)\n",
    "    if accuracy1 > best_accuracy:\n",
    "        best_accuracy = accuracy1\n",
    "        best_op_w = i\n",
    "\n",
    "\n",
    "best_accuracy=0\n",
    "op_a = ['ball_tree', 'kd_tree', 'brute']\n",
    "best_op_a = -1\n",
    "for i,op in enumerate(op_a):\n",
    "    knn = KNeighborsClassifier(n_neighbors=best_k, weights=op_w[best_op_w], algorithm=op)\n",
    "    knn.fit(X_train_scaled, y_train)\n",
    "    y_pred1 = knn.predict(X_val_scaled)\n",
    "    accuracy1 = accuracy_score(y_val, y_pred1)\n",
    "    if accuracy1 > best_accuracy:\n",
    "        best_accuracy = accuracy1\n",
    "        best_op_a = i\n",
    "\n",
    "best_accuracy=0\n",
    "op_m = ['minkowski', 'manhattan', 'euclidean']\n",
    "best_op_m = -1\n",
    "for i,op in enumerate(op_m):\n",
    "    knn = KNeighborsClassifier(n_neighbors=best_k, weights=op_w[best_op_w], algorithm=op_a[best_op_a], metric=op)\n",
    "    knn.fit(X_train_scaled, y_train)\n",
    "    y_pred1 = knn.predict(X_val_scaled)\n",
    "    accuracy1 = accuracy_score(y_val, y_pred1)\n",
    "    if accuracy1 > best_accuracy:\n",
    "        best_accuracy = accuracy1\n",
    "        best_op_m = i\n",
    "\n",
    "\n",
    "knn_final = KNeighborsClassifier(n_neighbors=best_k, weights=op_w[best_op_w], algorithm=op_a[best_op_a], metric=op_m[best_op_m])\n",
    "knn_final.fit(X_train_scaled, y_train)\n",
    "y_predfinal = knn_final.predict(X_val_scaled)\n",
    "accuracy2 = accuracy_score(y_val, y_predfinal)\n",
    "print(f'FINAL KNN params:\\n   -K: {best_k}\\n   -BEST_WEIGHTS: {op_w[best_op_w]}\\n   -BEST_ALGORITHM: {op_a[best_op_a]}\\n   -BEST_METRIC: {op_m[best_op_m]}\\nAccuracy: {accuracy2}')\n",
    "acc_dict['KNN'] = accuracy2"
   ]
  },
  {
   "cell_type": "markdown",
   "metadata": {},
   "source": [
    "#### Random Forest (RF)"
   ]
  },
  {
   "cell_type": "code",
   "execution_count": 67,
   "metadata": {
    "ExecuteTime": {
     "end_time": "2024-04-25T10:54:15.004241Z",
     "start_time": "2024-04-25T10:52:05.193391Z"
    }
   },
   "outputs": [
    {
     "ename": "KeyboardInterrupt",
     "evalue": "",
     "output_type": "error",
     "traceback": [
      "\u001B[1;31m---------------------------------------------------------------------------\u001B[0m",
      "\u001B[1;31mKeyboardInterrupt\u001B[0m                         Traceback (most recent call last)",
      "Cell \u001B[1;32mIn[67], line 30\u001B[0m\n\u001B[0;32m     28\u001B[0m \u001B[38;5;28;01mfor\u001B[39;00m i \u001B[38;5;129;01min\u001B[39;00m \u001B[38;5;28mrange\u001B[39m(\u001B[38;5;241m1\u001B[39m,\u001B[38;5;241m15\u001B[39m):\n\u001B[0;32m     29\u001B[0m     rf \u001B[38;5;241m=\u001B[39m RandomForestClassifier(n_estimators\u001B[38;5;241m=\u001B[39mbest_n, random_state\u001B[38;5;241m=\u001B[39m\u001B[38;5;241m33\u001B[39m, criterion\u001B[38;5;241m=\u001B[39moptions[best_option], max_depth\u001B[38;5;241m=\u001B[39mi)\n\u001B[1;32m---> 30\u001B[0m     \u001B[43mrf\u001B[49m\u001B[38;5;241;43m.\u001B[39;49m\u001B[43mfit\u001B[49m\u001B[43m(\u001B[49m\u001B[43mX_train\u001B[49m\u001B[43m,\u001B[49m\u001B[43m \u001B[49m\u001B[43my_train\u001B[49m\u001B[43m)\u001B[49m\n\u001B[0;32m     31\u001B[0m     y_pred \u001B[38;5;241m=\u001B[39m rf\u001B[38;5;241m.\u001B[39mpredict(X_val)\n\u001B[0;32m     32\u001B[0m     accuracy \u001B[38;5;241m=\u001B[39m accuracy_score(y_val, y_pred)\n",
      "File \u001B[1;32m~\\AppData\\Local\\Programs\\Python\\Python312\\Lib\\site-packages\\sklearn\\base.py:1474\u001B[0m, in \u001B[0;36m_fit_context.<locals>.decorator.<locals>.wrapper\u001B[1;34m(estimator, *args, **kwargs)\u001B[0m\n\u001B[0;32m   1467\u001B[0m     estimator\u001B[38;5;241m.\u001B[39m_validate_params()\n\u001B[0;32m   1469\u001B[0m \u001B[38;5;28;01mwith\u001B[39;00m config_context(\n\u001B[0;32m   1470\u001B[0m     skip_parameter_validation\u001B[38;5;241m=\u001B[39m(\n\u001B[0;32m   1471\u001B[0m         prefer_skip_nested_validation \u001B[38;5;129;01mor\u001B[39;00m global_skip_validation\n\u001B[0;32m   1472\u001B[0m     )\n\u001B[0;32m   1473\u001B[0m ):\n\u001B[1;32m-> 1474\u001B[0m     \u001B[38;5;28;01mreturn\u001B[39;00m \u001B[43mfit_method\u001B[49m\u001B[43m(\u001B[49m\u001B[43mestimator\u001B[49m\u001B[43m,\u001B[49m\u001B[43m \u001B[49m\u001B[38;5;241;43m*\u001B[39;49m\u001B[43margs\u001B[49m\u001B[43m,\u001B[49m\u001B[43m \u001B[49m\u001B[38;5;241;43m*\u001B[39;49m\u001B[38;5;241;43m*\u001B[39;49m\u001B[43mkwargs\u001B[49m\u001B[43m)\u001B[49m\n",
      "File \u001B[1;32m~\\AppData\\Local\\Programs\\Python\\Python312\\Lib\\site-packages\\sklearn\\ensemble\\_forest.py:489\u001B[0m, in \u001B[0;36mBaseForest.fit\u001B[1;34m(self, X, y, sample_weight)\u001B[0m\n\u001B[0;32m    478\u001B[0m trees \u001B[38;5;241m=\u001B[39m [\n\u001B[0;32m    479\u001B[0m     \u001B[38;5;28mself\u001B[39m\u001B[38;5;241m.\u001B[39m_make_estimator(append\u001B[38;5;241m=\u001B[39m\u001B[38;5;28;01mFalse\u001B[39;00m, random_state\u001B[38;5;241m=\u001B[39mrandom_state)\n\u001B[0;32m    480\u001B[0m     \u001B[38;5;28;01mfor\u001B[39;00m i \u001B[38;5;129;01min\u001B[39;00m \u001B[38;5;28mrange\u001B[39m(n_more_estimators)\n\u001B[0;32m    481\u001B[0m ]\n\u001B[0;32m    483\u001B[0m \u001B[38;5;66;03m# Parallel loop: we prefer the threading backend as the Cython code\u001B[39;00m\n\u001B[0;32m    484\u001B[0m \u001B[38;5;66;03m# for fitting the trees is internally releasing the Python GIL\u001B[39;00m\n\u001B[0;32m    485\u001B[0m \u001B[38;5;66;03m# making threading more efficient than multiprocessing in\u001B[39;00m\n\u001B[0;32m    486\u001B[0m \u001B[38;5;66;03m# that case. However, for joblib 0.12+ we respect any\u001B[39;00m\n\u001B[0;32m    487\u001B[0m \u001B[38;5;66;03m# parallel_backend contexts set at a higher level,\u001B[39;00m\n\u001B[0;32m    488\u001B[0m \u001B[38;5;66;03m# since correctness does not rely on using threads.\u001B[39;00m\n\u001B[1;32m--> 489\u001B[0m trees \u001B[38;5;241m=\u001B[39m \u001B[43mParallel\u001B[49m\u001B[43m(\u001B[49m\n\u001B[0;32m    490\u001B[0m \u001B[43m    \u001B[49m\u001B[43mn_jobs\u001B[49m\u001B[38;5;241;43m=\u001B[39;49m\u001B[38;5;28;43mself\u001B[39;49m\u001B[38;5;241;43m.\u001B[39;49m\u001B[43mn_jobs\u001B[49m\u001B[43m,\u001B[49m\n\u001B[0;32m    491\u001B[0m \u001B[43m    \u001B[49m\u001B[43mverbose\u001B[49m\u001B[38;5;241;43m=\u001B[39;49m\u001B[38;5;28;43mself\u001B[39;49m\u001B[38;5;241;43m.\u001B[39;49m\u001B[43mverbose\u001B[49m\u001B[43m,\u001B[49m\n\u001B[0;32m    492\u001B[0m \u001B[43m    \u001B[49m\u001B[43mprefer\u001B[49m\u001B[38;5;241;43m=\u001B[39;49m\u001B[38;5;124;43m\"\u001B[39;49m\u001B[38;5;124;43mthreads\u001B[39;49m\u001B[38;5;124;43m\"\u001B[39;49m\u001B[43m,\u001B[49m\n\u001B[0;32m    493\u001B[0m \u001B[43m\u001B[49m\u001B[43m)\u001B[49m\u001B[43m(\u001B[49m\n\u001B[0;32m    494\u001B[0m \u001B[43m    \u001B[49m\u001B[43mdelayed\u001B[49m\u001B[43m(\u001B[49m\u001B[43m_parallel_build_trees\u001B[49m\u001B[43m)\u001B[49m\u001B[43m(\u001B[49m\n\u001B[0;32m    495\u001B[0m \u001B[43m        \u001B[49m\u001B[43mt\u001B[49m\u001B[43m,\u001B[49m\n\u001B[0;32m    496\u001B[0m \u001B[43m        \u001B[49m\u001B[38;5;28;43mself\u001B[39;49m\u001B[38;5;241;43m.\u001B[39;49m\u001B[43mbootstrap\u001B[49m\u001B[43m,\u001B[49m\n\u001B[0;32m    497\u001B[0m \u001B[43m        \u001B[49m\u001B[43mX\u001B[49m\u001B[43m,\u001B[49m\n\u001B[0;32m    498\u001B[0m \u001B[43m        \u001B[49m\u001B[43my\u001B[49m\u001B[43m,\u001B[49m\n\u001B[0;32m    499\u001B[0m \u001B[43m        \u001B[49m\u001B[43msample_weight\u001B[49m\u001B[43m,\u001B[49m\n\u001B[0;32m    500\u001B[0m \u001B[43m        \u001B[49m\u001B[43mi\u001B[49m\u001B[43m,\u001B[49m\n\u001B[0;32m    501\u001B[0m \u001B[43m        \u001B[49m\u001B[38;5;28;43mlen\u001B[39;49m\u001B[43m(\u001B[49m\u001B[43mtrees\u001B[49m\u001B[43m)\u001B[49m\u001B[43m,\u001B[49m\n\u001B[0;32m    502\u001B[0m \u001B[43m        \u001B[49m\u001B[43mverbose\u001B[49m\u001B[38;5;241;43m=\u001B[39;49m\u001B[38;5;28;43mself\u001B[39;49m\u001B[38;5;241;43m.\u001B[39;49m\u001B[43mverbose\u001B[49m\u001B[43m,\u001B[49m\n\u001B[0;32m    503\u001B[0m \u001B[43m        \u001B[49m\u001B[43mclass_weight\u001B[49m\u001B[38;5;241;43m=\u001B[39;49m\u001B[38;5;28;43mself\u001B[39;49m\u001B[38;5;241;43m.\u001B[39;49m\u001B[43mclass_weight\u001B[49m\u001B[43m,\u001B[49m\n\u001B[0;32m    504\u001B[0m \u001B[43m        \u001B[49m\u001B[43mn_samples_bootstrap\u001B[49m\u001B[38;5;241;43m=\u001B[39;49m\u001B[43mn_samples_bootstrap\u001B[49m\u001B[43m,\u001B[49m\n\u001B[0;32m    505\u001B[0m \u001B[43m        \u001B[49m\u001B[43mmissing_values_in_feature_mask\u001B[49m\u001B[38;5;241;43m=\u001B[39;49m\u001B[43mmissing_values_in_feature_mask\u001B[49m\u001B[43m,\u001B[49m\n\u001B[0;32m    506\u001B[0m \u001B[43m    \u001B[49m\u001B[43m)\u001B[49m\n\u001B[0;32m    507\u001B[0m \u001B[43m    \u001B[49m\u001B[38;5;28;43;01mfor\u001B[39;49;00m\u001B[43m \u001B[49m\u001B[43mi\u001B[49m\u001B[43m,\u001B[49m\u001B[43m \u001B[49m\u001B[43mt\u001B[49m\u001B[43m \u001B[49m\u001B[38;5;129;43;01min\u001B[39;49;00m\u001B[43m \u001B[49m\u001B[38;5;28;43menumerate\u001B[39;49m\u001B[43m(\u001B[49m\u001B[43mtrees\u001B[49m\u001B[43m)\u001B[49m\n\u001B[0;32m    508\u001B[0m \u001B[43m\u001B[49m\u001B[43m)\u001B[49m\n\u001B[0;32m    510\u001B[0m \u001B[38;5;66;03m# Collect newly grown trees\u001B[39;00m\n\u001B[0;32m    511\u001B[0m \u001B[38;5;28mself\u001B[39m\u001B[38;5;241m.\u001B[39mestimators_\u001B[38;5;241m.\u001B[39mextend(trees)\n",
      "File \u001B[1;32m~\\AppData\\Local\\Programs\\Python\\Python312\\Lib\\site-packages\\sklearn\\utils\\parallel.py:67\u001B[0m, in \u001B[0;36mParallel.__call__\u001B[1;34m(self, iterable)\u001B[0m\n\u001B[0;32m     62\u001B[0m config \u001B[38;5;241m=\u001B[39m get_config()\n\u001B[0;32m     63\u001B[0m iterable_with_config \u001B[38;5;241m=\u001B[39m (\n\u001B[0;32m     64\u001B[0m     (_with_config(delayed_func, config), args, kwargs)\n\u001B[0;32m     65\u001B[0m     \u001B[38;5;28;01mfor\u001B[39;00m delayed_func, args, kwargs \u001B[38;5;129;01min\u001B[39;00m iterable\n\u001B[0;32m     66\u001B[0m )\n\u001B[1;32m---> 67\u001B[0m \u001B[38;5;28;01mreturn\u001B[39;00m \u001B[38;5;28;43msuper\u001B[39;49m\u001B[43m(\u001B[49m\u001B[43m)\u001B[49m\u001B[38;5;241;43m.\u001B[39;49m\u001B[38;5;21;43m__call__\u001B[39;49m\u001B[43m(\u001B[49m\u001B[43miterable_with_config\u001B[49m\u001B[43m)\u001B[49m\n",
      "File \u001B[1;32m~\\AppData\\Local\\Programs\\Python\\Python312\\Lib\\site-packages\\joblib\\parallel.py:1863\u001B[0m, in \u001B[0;36mParallel.__call__\u001B[1;34m(self, iterable)\u001B[0m\n\u001B[0;32m   1861\u001B[0m     output \u001B[38;5;241m=\u001B[39m \u001B[38;5;28mself\u001B[39m\u001B[38;5;241m.\u001B[39m_get_sequential_output(iterable)\n\u001B[0;32m   1862\u001B[0m     \u001B[38;5;28mnext\u001B[39m(output)\n\u001B[1;32m-> 1863\u001B[0m     \u001B[38;5;28;01mreturn\u001B[39;00m output \u001B[38;5;28;01mif\u001B[39;00m \u001B[38;5;28mself\u001B[39m\u001B[38;5;241m.\u001B[39mreturn_generator \u001B[38;5;28;01melse\u001B[39;00m \u001B[38;5;28;43mlist\u001B[39;49m\u001B[43m(\u001B[49m\u001B[43moutput\u001B[49m\u001B[43m)\u001B[49m\n\u001B[0;32m   1865\u001B[0m \u001B[38;5;66;03m# Let's create an ID that uniquely identifies the current call. If the\u001B[39;00m\n\u001B[0;32m   1866\u001B[0m \u001B[38;5;66;03m# call is interrupted early and that the same instance is immediately\u001B[39;00m\n\u001B[0;32m   1867\u001B[0m \u001B[38;5;66;03m# re-used, this id will be used to prevent workers that were\u001B[39;00m\n\u001B[0;32m   1868\u001B[0m \u001B[38;5;66;03m# concurrently finalizing a task from the previous call to run the\u001B[39;00m\n\u001B[0;32m   1869\u001B[0m \u001B[38;5;66;03m# callback.\u001B[39;00m\n\u001B[0;32m   1870\u001B[0m \u001B[38;5;28;01mwith\u001B[39;00m \u001B[38;5;28mself\u001B[39m\u001B[38;5;241m.\u001B[39m_lock:\n",
      "File \u001B[1;32m~\\AppData\\Local\\Programs\\Python\\Python312\\Lib\\site-packages\\joblib\\parallel.py:1792\u001B[0m, in \u001B[0;36mParallel._get_sequential_output\u001B[1;34m(self, iterable)\u001B[0m\n\u001B[0;32m   1790\u001B[0m \u001B[38;5;28mself\u001B[39m\u001B[38;5;241m.\u001B[39mn_dispatched_batches \u001B[38;5;241m+\u001B[39m\u001B[38;5;241m=\u001B[39m \u001B[38;5;241m1\u001B[39m\n\u001B[0;32m   1791\u001B[0m \u001B[38;5;28mself\u001B[39m\u001B[38;5;241m.\u001B[39mn_dispatched_tasks \u001B[38;5;241m+\u001B[39m\u001B[38;5;241m=\u001B[39m \u001B[38;5;241m1\u001B[39m\n\u001B[1;32m-> 1792\u001B[0m res \u001B[38;5;241m=\u001B[39m \u001B[43mfunc\u001B[49m\u001B[43m(\u001B[49m\u001B[38;5;241;43m*\u001B[39;49m\u001B[43margs\u001B[49m\u001B[43m,\u001B[49m\u001B[43m \u001B[49m\u001B[38;5;241;43m*\u001B[39;49m\u001B[38;5;241;43m*\u001B[39;49m\u001B[43mkwargs\u001B[49m\u001B[43m)\u001B[49m\n\u001B[0;32m   1793\u001B[0m \u001B[38;5;28mself\u001B[39m\u001B[38;5;241m.\u001B[39mn_completed_tasks \u001B[38;5;241m+\u001B[39m\u001B[38;5;241m=\u001B[39m \u001B[38;5;241m1\u001B[39m\n\u001B[0;32m   1794\u001B[0m \u001B[38;5;28mself\u001B[39m\u001B[38;5;241m.\u001B[39mprint_progress()\n",
      "File \u001B[1;32m~\\AppData\\Local\\Programs\\Python\\Python312\\Lib\\site-packages\\sklearn\\utils\\parallel.py:129\u001B[0m, in \u001B[0;36m_FuncWrapper.__call__\u001B[1;34m(self, *args, **kwargs)\u001B[0m\n\u001B[0;32m    127\u001B[0m     config \u001B[38;5;241m=\u001B[39m {}\n\u001B[0;32m    128\u001B[0m \u001B[38;5;28;01mwith\u001B[39;00m config_context(\u001B[38;5;241m*\u001B[39m\u001B[38;5;241m*\u001B[39mconfig):\n\u001B[1;32m--> 129\u001B[0m     \u001B[38;5;28;01mreturn\u001B[39;00m \u001B[38;5;28;43mself\u001B[39;49m\u001B[38;5;241;43m.\u001B[39;49m\u001B[43mfunction\u001B[49m\u001B[43m(\u001B[49m\u001B[38;5;241;43m*\u001B[39;49m\u001B[43margs\u001B[49m\u001B[43m,\u001B[49m\u001B[43m \u001B[49m\u001B[38;5;241;43m*\u001B[39;49m\u001B[38;5;241;43m*\u001B[39;49m\u001B[43mkwargs\u001B[49m\u001B[43m)\u001B[49m\n",
      "File \u001B[1;32m~\\AppData\\Local\\Programs\\Python\\Python312\\Lib\\site-packages\\sklearn\\ensemble\\_forest.py:192\u001B[0m, in \u001B[0;36m_parallel_build_trees\u001B[1;34m(tree, bootstrap, X, y, sample_weight, tree_idx, n_trees, verbose, class_weight, n_samples_bootstrap, missing_values_in_feature_mask)\u001B[0m\n\u001B[0;32m    189\u001B[0m     \u001B[38;5;28;01melif\u001B[39;00m class_weight \u001B[38;5;241m==\u001B[39m \u001B[38;5;124m\"\u001B[39m\u001B[38;5;124mbalanced_subsample\u001B[39m\u001B[38;5;124m\"\u001B[39m:\n\u001B[0;32m    190\u001B[0m         curr_sample_weight \u001B[38;5;241m*\u001B[39m\u001B[38;5;241m=\u001B[39m compute_sample_weight(\u001B[38;5;124m\"\u001B[39m\u001B[38;5;124mbalanced\u001B[39m\u001B[38;5;124m\"\u001B[39m, y, indices\u001B[38;5;241m=\u001B[39mindices)\n\u001B[1;32m--> 192\u001B[0m     \u001B[43mtree\u001B[49m\u001B[38;5;241;43m.\u001B[39;49m\u001B[43m_fit\u001B[49m\u001B[43m(\u001B[49m\n\u001B[0;32m    193\u001B[0m \u001B[43m        \u001B[49m\u001B[43mX\u001B[49m\u001B[43m,\u001B[49m\n\u001B[0;32m    194\u001B[0m \u001B[43m        \u001B[49m\u001B[43my\u001B[49m\u001B[43m,\u001B[49m\n\u001B[0;32m    195\u001B[0m \u001B[43m        \u001B[49m\u001B[43msample_weight\u001B[49m\u001B[38;5;241;43m=\u001B[39;49m\u001B[43mcurr_sample_weight\u001B[49m\u001B[43m,\u001B[49m\n\u001B[0;32m    196\u001B[0m \u001B[43m        \u001B[49m\u001B[43mcheck_input\u001B[49m\u001B[38;5;241;43m=\u001B[39;49m\u001B[38;5;28;43;01mFalse\u001B[39;49;00m\u001B[43m,\u001B[49m\n\u001B[0;32m    197\u001B[0m \u001B[43m        \u001B[49m\u001B[43mmissing_values_in_feature_mask\u001B[49m\u001B[38;5;241;43m=\u001B[39;49m\u001B[43mmissing_values_in_feature_mask\u001B[49m\u001B[43m,\u001B[49m\n\u001B[0;32m    198\u001B[0m \u001B[43m    \u001B[49m\u001B[43m)\u001B[49m\n\u001B[0;32m    199\u001B[0m \u001B[38;5;28;01melse\u001B[39;00m:\n\u001B[0;32m    200\u001B[0m     tree\u001B[38;5;241m.\u001B[39m_fit(\n\u001B[0;32m    201\u001B[0m         X,\n\u001B[0;32m    202\u001B[0m         y,\n\u001B[1;32m   (...)\u001B[0m\n\u001B[0;32m    205\u001B[0m         missing_values_in_feature_mask\u001B[38;5;241m=\u001B[39mmissing_values_in_feature_mask,\n\u001B[0;32m    206\u001B[0m     )\n",
      "File \u001B[1;32m~\\AppData\\Local\\Programs\\Python\\Python312\\Lib\\site-packages\\sklearn\\tree\\_classes.py:472\u001B[0m, in \u001B[0;36mBaseDecisionTree._fit\u001B[1;34m(self, X, y, sample_weight, check_input, missing_values_in_feature_mask)\u001B[0m\n\u001B[0;32m    461\u001B[0m \u001B[38;5;28;01melse\u001B[39;00m:\n\u001B[0;32m    462\u001B[0m     builder \u001B[38;5;241m=\u001B[39m BestFirstTreeBuilder(\n\u001B[0;32m    463\u001B[0m         splitter,\n\u001B[0;32m    464\u001B[0m         min_samples_split,\n\u001B[1;32m   (...)\u001B[0m\n\u001B[0;32m    469\u001B[0m         \u001B[38;5;28mself\u001B[39m\u001B[38;5;241m.\u001B[39mmin_impurity_decrease,\n\u001B[0;32m    470\u001B[0m     )\n\u001B[1;32m--> 472\u001B[0m \u001B[43mbuilder\u001B[49m\u001B[38;5;241;43m.\u001B[39;49m\u001B[43mbuild\u001B[49m\u001B[43m(\u001B[49m\u001B[38;5;28;43mself\u001B[39;49m\u001B[38;5;241;43m.\u001B[39;49m\u001B[43mtree_\u001B[49m\u001B[43m,\u001B[49m\u001B[43m \u001B[49m\u001B[43mX\u001B[49m\u001B[43m,\u001B[49m\u001B[43m \u001B[49m\u001B[43my\u001B[49m\u001B[43m,\u001B[49m\u001B[43m \u001B[49m\u001B[43msample_weight\u001B[49m\u001B[43m,\u001B[49m\u001B[43m \u001B[49m\u001B[43mmissing_values_in_feature_mask\u001B[49m\u001B[43m)\u001B[49m\n\u001B[0;32m    474\u001B[0m \u001B[38;5;28;01mif\u001B[39;00m \u001B[38;5;28mself\u001B[39m\u001B[38;5;241m.\u001B[39mn_outputs_ \u001B[38;5;241m==\u001B[39m \u001B[38;5;241m1\u001B[39m \u001B[38;5;129;01mand\u001B[39;00m is_classifier(\u001B[38;5;28mself\u001B[39m):\n\u001B[0;32m    475\u001B[0m     \u001B[38;5;28mself\u001B[39m\u001B[38;5;241m.\u001B[39mn_classes_ \u001B[38;5;241m=\u001B[39m \u001B[38;5;28mself\u001B[39m\u001B[38;5;241m.\u001B[39mn_classes_[\u001B[38;5;241m0\u001B[39m]\n",
      "\u001B[1;31mKeyboardInterrupt\u001B[0m: "
     ]
    }
   ],
   "source": [
    "from sklearn.ensemble import RandomForestClassifier\n",
    "\n",
    "best_accuracy = 0\n",
    "best_n = 0\n",
    "for i in [x*50 for x in range(1,10)]:\n",
    "    rf = RandomForestClassifier(n_estimators=i, random_state=33)\n",
    "    rf.fit(X_train, y_train)\n",
    "    y_pred = rf.predict(X_val)\n",
    "    accuracy = accuracy_score(y_val, y_pred)\n",
    "    if accuracy > best_accuracy:\n",
    "        best_accuracy = accuracy\n",
    "        best_n = i\n",
    "\n",
    "best_accuracy = 0\n",
    "options = [\"gini\", \"entropy\",'log_loss']\n",
    "best_option = -1\n",
    "for i,op in enumerate(options):\n",
    "    rf = RandomForestClassifier(n_estimators=best_n, random_state=33, criterion=op)\n",
    "    rf.fit(X_train, y_train)\n",
    "    y_pred = rf.predict(X_val)\n",
    "    accuracy = accuracy_score(y_val, y_pred)\n",
    "    if accuracy > best_accuracy:\n",
    "        best_accuracy = accuracy\n",
    "        best_option = i\n",
    "\n",
    "best_accuracy=  0\n",
    "best_depth = 0\n",
    "for i in range(1,15):\n",
    "    rf = RandomForestClassifier(n_estimators=best_n, random_state=33, criterion=options[best_option], max_depth=i)\n",
    "    rf.fit(X_train, y_train)\n",
    "    y_pred = rf.predict(X_val)\n",
    "    accuracy = accuracy_score(y_val, y_pred)\n",
    "    if accuracy > best_accuracy:\n",
    "        best_accuracy = accuracy\n",
    "        best_depth = i\n",
    "\n",
    "rf_final = RandomForestClassifier(n_estimators=best_n, random_state=33, criterion=options[best_option], max_depth=best_depth)\n",
    "rf_final.fit(X_train, y_train)\n",
    "y_predfinal = rf_final.predict(X_val)\n",
    "accuracy2 = accuracy_score(y_val, y_predfinal)\n",
    "print(f'FINAL RANDOM FOREST params:\\n   -N_ESTIMATORS: {best_n}\\n   -BEST_CRITERION: {options[best_option]}\\n   -MAX_DEPTH: {best_depth}\\nAccuracy: {accuracy2}')\n",
    "acc_dict['RF'] = accuracy2"
   ]
  },
  {
   "cell_type": "markdown",
   "metadata": {},
   "source": [
    "#### Redes neuronales"
   ]
  },
  {
   "cell_type": "markdown",
   "metadata": {},
   "source": [
    "##### Red neuronal simple"
   ]
  },
  {
   "cell_type": "code",
   "execution_count": 68,
   "metadata": {
    "ExecuteTime": {
     "end_time": "2024-04-25T10:54:38.855736Z",
     "start_time": "2024-04-25T10:54:19.195738400Z"
    }
   },
   "outputs": [
    {
     "ename": "KeyboardInterrupt",
     "evalue": "",
     "output_type": "error",
     "traceback": [
      "\u001B[1;31m---------------------------------------------------------------------------\u001B[0m",
      "\u001B[1;31mKeyboardInterrupt\u001B[0m                         Traceback (most recent call last)",
      "Cell \u001B[1;32mIn[68], line 1\u001B[0m\n\u001B[1;32m----> 1\u001B[0m \u001B[38;5;28;01mimport\u001B[39;00m \u001B[38;5;21;01mtensorflow\u001B[39;00m \u001B[38;5;28;01mas\u001B[39;00m \u001B[38;5;21;01mtf\u001B[39;00m\n\u001B[0;32m      3\u001B[0m \u001B[38;5;28;01mdef\u001B[39;00m \u001B[38;5;21mcrear_modelo_simple\u001B[39m():\n\u001B[0;32m      4\u001B[0m     modelo \u001B[38;5;241m=\u001B[39m tf\u001B[38;5;241m.\u001B[39mkeras\u001B[38;5;241m.\u001B[39mSequential([\n\u001B[0;32m      5\u001B[0m         tf\u001B[38;5;241m.\u001B[39mkeras\u001B[38;5;241m.\u001B[39mlayers\u001B[38;5;241m.\u001B[39mDense(\u001B[38;5;241m128\u001B[39m, activation\u001B[38;5;241m=\u001B[39m\u001B[38;5;124m'\u001B[39m\u001B[38;5;124mrelu\u001B[39m\u001B[38;5;124m'\u001B[39m, input_shape\u001B[38;5;241m=\u001B[39m(\u001B[38;5;28mlen\u001B[39m(feature_names),)),  \u001B[38;5;66;03m# Capa oculta con 128 neuronas\u001B[39;00m\n\u001B[0;32m      6\u001B[0m         tf\u001B[38;5;241m.\u001B[39mkeras\u001B[38;5;241m.\u001B[39mlayers\u001B[38;5;241m.\u001B[39mDense(\u001B[38;5;241m1\u001B[39m, activation\u001B[38;5;241m=\u001B[39m\u001B[38;5;124m'\u001B[39m\u001B[38;5;124msigmoid\u001B[39m\u001B[38;5;124m'\u001B[39m)  \u001B[38;5;66;03m# Capa de salida con 1 neurona para clasificación binaria\u001B[39;00m\n\u001B[0;32m      7\u001B[0m     ])\n",
      "File \u001B[1;32m~\\AppData\\Local\\Programs\\Python\\Python312\\Lib\\site-packages\\tensorflow\\__init__.py:45\u001B[0m\n\u001B[0;32m     42\u001B[0m \u001B[38;5;28;01mfrom\u001B[39;00m \u001B[38;5;21;01mtensorflow\u001B[39;00m\u001B[38;5;21;01m.\u001B[39;00m\u001B[38;5;21;01mpython\u001B[39;00m \u001B[38;5;28;01mimport\u001B[39;00m tf2 \u001B[38;5;28;01mas\u001B[39;00m _tf2\n\u001B[0;32m     43\u001B[0m _tf2\u001B[38;5;241m.\u001B[39menable()\n\u001B[1;32m---> 45\u001B[0m \u001B[38;5;28;01mfrom\u001B[39;00m \u001B[38;5;21;01mtensorflow\u001B[39;00m\u001B[38;5;21;01m.\u001B[39;00m\u001B[38;5;21;01m_api\u001B[39;00m\u001B[38;5;21;01m.\u001B[39;00m\u001B[38;5;21;01mv2\u001B[39;00m \u001B[38;5;28;01mimport\u001B[39;00m __internal__\n\u001B[0;32m     46\u001B[0m \u001B[38;5;28;01mfrom\u001B[39;00m \u001B[38;5;21;01mtensorflow\u001B[39;00m\u001B[38;5;21;01m.\u001B[39;00m\u001B[38;5;21;01m_api\u001B[39;00m\u001B[38;5;21;01m.\u001B[39;00m\u001B[38;5;21;01mv2\u001B[39;00m \u001B[38;5;28;01mimport\u001B[39;00m __operators__\n\u001B[0;32m     47\u001B[0m \u001B[38;5;28;01mfrom\u001B[39;00m \u001B[38;5;21;01mtensorflow\u001B[39;00m\u001B[38;5;21;01m.\u001B[39;00m\u001B[38;5;21;01m_api\u001B[39;00m\u001B[38;5;21;01m.\u001B[39;00m\u001B[38;5;21;01mv2\u001B[39;00m \u001B[38;5;28;01mimport\u001B[39;00m audio\n",
      "File \u001B[1;32m~\\AppData\\Local\\Programs\\Python\\Python312\\Lib\\site-packages\\tensorflow\\_api\\v2\\__internal__\\__init__.py:11\u001B[0m\n\u001B[0;32m      9\u001B[0m \u001B[38;5;28;01mfrom\u001B[39;00m \u001B[38;5;21;01mtensorflow\u001B[39;00m\u001B[38;5;21;01m.\u001B[39;00m\u001B[38;5;21;01m_api\u001B[39;00m\u001B[38;5;21;01m.\u001B[39;00m\u001B[38;5;21;01mv2\u001B[39;00m\u001B[38;5;21;01m.\u001B[39;00m\u001B[38;5;21;01m__internal__\u001B[39;00m \u001B[38;5;28;01mimport\u001B[39;00m decorator\n\u001B[0;32m     10\u001B[0m \u001B[38;5;28;01mfrom\u001B[39;00m \u001B[38;5;21;01mtensorflow\u001B[39;00m\u001B[38;5;21;01m.\u001B[39;00m\u001B[38;5;21;01m_api\u001B[39;00m\u001B[38;5;21;01m.\u001B[39;00m\u001B[38;5;21;01mv2\u001B[39;00m\u001B[38;5;21;01m.\u001B[39;00m\u001B[38;5;21;01m__internal__\u001B[39;00m \u001B[38;5;28;01mimport\u001B[39;00m dispatch\n\u001B[1;32m---> 11\u001B[0m \u001B[38;5;28;01mfrom\u001B[39;00m \u001B[38;5;21;01mtensorflow\u001B[39;00m\u001B[38;5;21;01m.\u001B[39;00m\u001B[38;5;21;01m_api\u001B[39;00m\u001B[38;5;21;01m.\u001B[39;00m\u001B[38;5;21;01mv2\u001B[39;00m\u001B[38;5;21;01m.\u001B[39;00m\u001B[38;5;21;01m__internal__\u001B[39;00m \u001B[38;5;28;01mimport\u001B[39;00m distribute\n\u001B[0;32m     12\u001B[0m \u001B[38;5;28;01mfrom\u001B[39;00m \u001B[38;5;21;01mtensorflow\u001B[39;00m\u001B[38;5;21;01m.\u001B[39;00m\u001B[38;5;21;01m_api\u001B[39;00m\u001B[38;5;21;01m.\u001B[39;00m\u001B[38;5;21;01mv2\u001B[39;00m\u001B[38;5;21;01m.\u001B[39;00m\u001B[38;5;21;01m__internal__\u001B[39;00m \u001B[38;5;28;01mimport\u001B[39;00m eager_context\n\u001B[0;32m     13\u001B[0m \u001B[38;5;28;01mfrom\u001B[39;00m \u001B[38;5;21;01mtensorflow\u001B[39;00m\u001B[38;5;21;01m.\u001B[39;00m\u001B[38;5;21;01m_api\u001B[39;00m\u001B[38;5;21;01m.\u001B[39;00m\u001B[38;5;21;01mv2\u001B[39;00m\u001B[38;5;21;01m.\u001B[39;00m\u001B[38;5;21;01m__internal__\u001B[39;00m \u001B[38;5;28;01mimport\u001B[39;00m feature_column\n",
      "File \u001B[1;32m~\\AppData\\Local\\Programs\\Python\\Python312\\Lib\\site-packages\\tensorflow\\_api\\v2\\__internal__\\distribute\\__init__.py:8\u001B[0m\n\u001B[0;32m      3\u001B[0m \u001B[38;5;124;03m\"\"\"Public API for tf._api.v2.__internal__.distribute namespace\u001B[39;00m\n\u001B[0;32m      4\u001B[0m \u001B[38;5;124;03m\"\"\"\u001B[39;00m\n\u001B[0;32m      6\u001B[0m \u001B[38;5;28;01mimport\u001B[39;00m \u001B[38;5;21;01msys\u001B[39;00m \u001B[38;5;28;01mas\u001B[39;00m \u001B[38;5;21;01m_sys\u001B[39;00m\n\u001B[1;32m----> 8\u001B[0m \u001B[38;5;28;01mfrom\u001B[39;00m \u001B[38;5;21;01mtensorflow\u001B[39;00m\u001B[38;5;21;01m.\u001B[39;00m\u001B[38;5;21;01m_api\u001B[39;00m\u001B[38;5;21;01m.\u001B[39;00m\u001B[38;5;21;01mv2\u001B[39;00m\u001B[38;5;21;01m.\u001B[39;00m\u001B[38;5;21;01m__internal__\u001B[39;00m\u001B[38;5;21;01m.\u001B[39;00m\u001B[38;5;21;01mdistribute\u001B[39;00m \u001B[38;5;28;01mimport\u001B[39;00m combinations\n\u001B[0;32m      9\u001B[0m \u001B[38;5;28;01mfrom\u001B[39;00m \u001B[38;5;21;01mtensorflow\u001B[39;00m\u001B[38;5;21;01m.\u001B[39;00m\u001B[38;5;21;01m_api\u001B[39;00m\u001B[38;5;21;01m.\u001B[39;00m\u001B[38;5;21;01mv2\u001B[39;00m\u001B[38;5;21;01m.\u001B[39;00m\u001B[38;5;21;01m__internal__\u001B[39;00m\u001B[38;5;21;01m.\u001B[39;00m\u001B[38;5;21;01mdistribute\u001B[39;00m \u001B[38;5;28;01mimport\u001B[39;00m interim\n\u001B[0;32m     10\u001B[0m \u001B[38;5;28;01mfrom\u001B[39;00m \u001B[38;5;21;01mtensorflow\u001B[39;00m\u001B[38;5;21;01m.\u001B[39;00m\u001B[38;5;21;01m_api\u001B[39;00m\u001B[38;5;21;01m.\u001B[39;00m\u001B[38;5;21;01mv2\u001B[39;00m\u001B[38;5;21;01m.\u001B[39;00m\u001B[38;5;21;01m__internal__\u001B[39;00m\u001B[38;5;21;01m.\u001B[39;00m\u001B[38;5;21;01mdistribute\u001B[39;00m \u001B[38;5;28;01mimport\u001B[39;00m multi_process_runner\n",
      "File \u001B[1;32m~\\AppData\\Local\\Programs\\Python\\Python312\\Lib\\site-packages\\tensorflow\\_api\\v2\\__internal__\\distribute\\combinations\\__init__.py:8\u001B[0m\n\u001B[0;32m      3\u001B[0m \u001B[38;5;124;03m\"\"\"Public API for tf._api.v2.__internal__.distribute.combinations namespace\u001B[39;00m\n\u001B[0;32m      4\u001B[0m \u001B[38;5;124;03m\"\"\"\u001B[39;00m\n\u001B[0;32m      6\u001B[0m \u001B[38;5;28;01mimport\u001B[39;00m \u001B[38;5;21;01msys\u001B[39;00m \u001B[38;5;28;01mas\u001B[39;00m \u001B[38;5;21;01m_sys\u001B[39;00m\n\u001B[1;32m----> 8\u001B[0m \u001B[38;5;28;01mfrom\u001B[39;00m \u001B[38;5;21;01mtensorflow\u001B[39;00m\u001B[38;5;21;01m.\u001B[39;00m\u001B[38;5;21;01mpython\u001B[39;00m\u001B[38;5;21;01m.\u001B[39;00m\u001B[38;5;21;01mdistribute\u001B[39;00m\u001B[38;5;21;01m.\u001B[39;00m\u001B[38;5;21;01mcombinations\u001B[39;00m \u001B[38;5;28;01mimport\u001B[39;00m env \u001B[38;5;66;03m# line: 456\u001B[39;00m\n\u001B[0;32m      9\u001B[0m \u001B[38;5;28;01mfrom\u001B[39;00m \u001B[38;5;21;01mtensorflow\u001B[39;00m\u001B[38;5;21;01m.\u001B[39;00m\u001B[38;5;21;01mpython\u001B[39;00m\u001B[38;5;21;01m.\u001B[39;00m\u001B[38;5;21;01mdistribute\u001B[39;00m\u001B[38;5;21;01m.\u001B[39;00m\u001B[38;5;21;01mcombinations\u001B[39;00m \u001B[38;5;28;01mimport\u001B[39;00m generate \u001B[38;5;66;03m# line: 365\u001B[39;00m\n\u001B[0;32m     10\u001B[0m \u001B[38;5;28;01mfrom\u001B[39;00m \u001B[38;5;21;01mtensorflow\u001B[39;00m\u001B[38;5;21;01m.\u001B[39;00m\u001B[38;5;21;01mpython\u001B[39;00m\u001B[38;5;21;01m.\u001B[39;00m\u001B[38;5;21;01mdistribute\u001B[39;00m\u001B[38;5;21;01m.\u001B[39;00m\u001B[38;5;21;01mcombinations\u001B[39;00m \u001B[38;5;28;01mimport\u001B[39;00m in_main_process \u001B[38;5;66;03m# line: 418\u001B[39;00m\n",
      "File \u001B[1;32m~\\AppData\\Local\\Programs\\Python\\Python312\\Lib\\site-packages\\tensorflow\\python\\distribute\\combinations.py:33\u001B[0m\n\u001B[0;32m     29\u001B[0m \u001B[38;5;28;01mimport\u001B[39;00m \u001B[38;5;21;01msix\u001B[39;00m\n\u001B[0;32m     32\u001B[0m \u001B[38;5;28;01mfrom\u001B[39;00m \u001B[38;5;21;01mtensorflow\u001B[39;00m\u001B[38;5;21;01m.\u001B[39;00m\u001B[38;5;21;01mpython\u001B[39;00m\u001B[38;5;21;01m.\u001B[39;00m\u001B[38;5;21;01mclient\u001B[39;00m \u001B[38;5;28;01mimport\u001B[39;00m session\n\u001B[1;32m---> 33\u001B[0m \u001B[38;5;28;01mfrom\u001B[39;00m \u001B[38;5;21;01mtensorflow\u001B[39;00m\u001B[38;5;21;01m.\u001B[39;00m\u001B[38;5;21;01mpython\u001B[39;00m\u001B[38;5;21;01m.\u001B[39;00m\u001B[38;5;21;01mdistribute\u001B[39;00m \u001B[38;5;28;01mimport\u001B[39;00m collective_all_reduce_strategy\n\u001B[0;32m     34\u001B[0m \u001B[38;5;28;01mfrom\u001B[39;00m \u001B[38;5;21;01mtensorflow\u001B[39;00m\u001B[38;5;21;01m.\u001B[39;00m\u001B[38;5;21;01mpython\u001B[39;00m\u001B[38;5;21;01m.\u001B[39;00m\u001B[38;5;21;01mdistribute\u001B[39;00m \u001B[38;5;28;01mimport\u001B[39;00m distribute_lib\n\u001B[0;32m     35\u001B[0m \u001B[38;5;28;01mfrom\u001B[39;00m \u001B[38;5;21;01mtensorflow\u001B[39;00m\u001B[38;5;21;01m.\u001B[39;00m\u001B[38;5;21;01mpython\u001B[39;00m\u001B[38;5;21;01m.\u001B[39;00m\u001B[38;5;21;01mdistribute\u001B[39;00m \u001B[38;5;28;01mimport\u001B[39;00m multi_process_runner\n",
      "File \u001B[1;32m~\\AppData\\Local\\Programs\\Python\\Python312\\Lib\\site-packages\\tensorflow\\python\\distribute\\collective_all_reduce_strategy.py:25\u001B[0m\n\u001B[0;32m     23\u001B[0m \u001B[38;5;28;01mfrom\u001B[39;00m \u001B[38;5;21;01mtensorflow\u001B[39;00m\u001B[38;5;21;01m.\u001B[39;00m\u001B[38;5;21;01mcore\u001B[39;00m\u001B[38;5;21;01m.\u001B[39;00m\u001B[38;5;21;01mprotobuf\u001B[39;00m \u001B[38;5;28;01mimport\u001B[39;00m tensorflow_server_pb2\n\u001B[0;32m     24\u001B[0m \u001B[38;5;28;01mfrom\u001B[39;00m \u001B[38;5;21;01mtensorflow\u001B[39;00m\u001B[38;5;21;01m.\u001B[39;00m\u001B[38;5;21;01mpython\u001B[39;00m\u001B[38;5;21;01m.\u001B[39;00m\u001B[38;5;21;01mdistribute\u001B[39;00m \u001B[38;5;28;01mimport\u001B[39;00m collective_util\n\u001B[1;32m---> 25\u001B[0m \u001B[38;5;28;01mfrom\u001B[39;00m \u001B[38;5;21;01mtensorflow\u001B[39;00m\u001B[38;5;21;01m.\u001B[39;00m\u001B[38;5;21;01mpython\u001B[39;00m\u001B[38;5;21;01m.\u001B[39;00m\u001B[38;5;21;01mdistribute\u001B[39;00m \u001B[38;5;28;01mimport\u001B[39;00m cross_device_ops \u001B[38;5;28;01mas\u001B[39;00m cross_device_ops_lib\n\u001B[0;32m     26\u001B[0m \u001B[38;5;28;01mfrom\u001B[39;00m \u001B[38;5;21;01mtensorflow\u001B[39;00m\u001B[38;5;21;01m.\u001B[39;00m\u001B[38;5;21;01mpython\u001B[39;00m\u001B[38;5;21;01m.\u001B[39;00m\u001B[38;5;21;01mdistribute\u001B[39;00m \u001B[38;5;28;01mimport\u001B[39;00m cross_device_utils\n\u001B[0;32m     27\u001B[0m \u001B[38;5;28;01mfrom\u001B[39;00m \u001B[38;5;21;01mtensorflow\u001B[39;00m\u001B[38;5;21;01m.\u001B[39;00m\u001B[38;5;21;01mpython\u001B[39;00m\u001B[38;5;21;01m.\u001B[39;00m\u001B[38;5;21;01mdistribute\u001B[39;00m \u001B[38;5;28;01mimport\u001B[39;00m device_util\n",
      "File \u001B[1;32m~\\AppData\\Local\\Programs\\Python\\Python312\\Lib\\site-packages\\tensorflow\\python\\distribute\\cross_device_ops.py:28\u001B[0m\n\u001B[0;32m     26\u001B[0m \u001B[38;5;28;01mfrom\u001B[39;00m \u001B[38;5;21;01mtensorflow\u001B[39;00m\u001B[38;5;21;01m.\u001B[39;00m\u001B[38;5;21;01mpython\u001B[39;00m\u001B[38;5;21;01m.\u001B[39;00m\u001B[38;5;21;01mclient\u001B[39;00m \u001B[38;5;28;01mimport\u001B[39;00m device_lib\n\u001B[0;32m     27\u001B[0m \u001B[38;5;28;01mfrom\u001B[39;00m \u001B[38;5;21;01mtensorflow\u001B[39;00m\u001B[38;5;21;01m.\u001B[39;00m\u001B[38;5;21;01mpython\u001B[39;00m\u001B[38;5;21;01m.\u001B[39;00m\u001B[38;5;21;01mdistribute\u001B[39;00m \u001B[38;5;28;01mimport\u001B[39;00m collective_util\n\u001B[1;32m---> 28\u001B[0m \u001B[38;5;28;01mfrom\u001B[39;00m \u001B[38;5;21;01mtensorflow\u001B[39;00m\u001B[38;5;21;01m.\u001B[39;00m\u001B[38;5;21;01mpython\u001B[39;00m\u001B[38;5;21;01m.\u001B[39;00m\u001B[38;5;21;01mdistribute\u001B[39;00m \u001B[38;5;28;01mimport\u001B[39;00m cross_device_utils\n\u001B[0;32m     29\u001B[0m \u001B[38;5;28;01mfrom\u001B[39;00m \u001B[38;5;21;01mtensorflow\u001B[39;00m\u001B[38;5;21;01m.\u001B[39;00m\u001B[38;5;21;01mpython\u001B[39;00m\u001B[38;5;21;01m.\u001B[39;00m\u001B[38;5;21;01mdistribute\u001B[39;00m \u001B[38;5;28;01mimport\u001B[39;00m device_util\n\u001B[0;32m     30\u001B[0m \u001B[38;5;28;01mfrom\u001B[39;00m \u001B[38;5;21;01mtensorflow\u001B[39;00m\u001B[38;5;21;01m.\u001B[39;00m\u001B[38;5;21;01mpython\u001B[39;00m\u001B[38;5;21;01m.\u001B[39;00m\u001B[38;5;21;01mdistribute\u001B[39;00m \u001B[38;5;28;01mimport\u001B[39;00m distribute_utils\n",
      "File \u001B[1;32m~\\AppData\\Local\\Programs\\Python\\Python312\\Lib\\site-packages\\tensorflow\\python\\distribute\\cross_device_utils.py:22\u001B[0m\n\u001B[0;32m     19\u001B[0m \u001B[38;5;28;01mfrom\u001B[39;00m \u001B[38;5;21;01mtyping\u001B[39;00m \u001B[38;5;28;01mimport\u001B[39;00m Callable, List, Optional, Union\n\u001B[0;32m     21\u001B[0m \u001B[38;5;28;01mfrom\u001B[39;00m \u001B[38;5;21;01mtensorflow\u001B[39;00m\u001B[38;5;21;01m.\u001B[39;00m\u001B[38;5;21;01mpython\u001B[39;00m\u001B[38;5;21;01m.\u001B[39;00m\u001B[38;5;21;01mdistribute\u001B[39;00m \u001B[38;5;28;01mimport\u001B[39;00m collective_util\n\u001B[1;32m---> 22\u001B[0m \u001B[38;5;28;01mfrom\u001B[39;00m \u001B[38;5;21;01mtensorflow\u001B[39;00m\u001B[38;5;21;01m.\u001B[39;00m\u001B[38;5;21;01mpython\u001B[39;00m\u001B[38;5;21;01m.\u001B[39;00m\u001B[38;5;21;01mdistribute\u001B[39;00m \u001B[38;5;28;01mimport\u001B[39;00m values \u001B[38;5;28;01mas\u001B[39;00m value_lib\n\u001B[0;32m     23\u001B[0m \u001B[38;5;28;01mfrom\u001B[39;00m \u001B[38;5;21;01mtensorflow\u001B[39;00m\u001B[38;5;21;01m.\u001B[39;00m\u001B[38;5;21;01mpython\u001B[39;00m\u001B[38;5;21;01m.\u001B[39;00m\u001B[38;5;21;01meager\u001B[39;00m \u001B[38;5;28;01mimport\u001B[39;00m backprop_util\n\u001B[0;32m     24\u001B[0m \u001B[38;5;28;01mfrom\u001B[39;00m \u001B[38;5;21;01mtensorflow\u001B[39;00m\u001B[38;5;21;01m.\u001B[39;00m\u001B[38;5;21;01mpython\u001B[39;00m\u001B[38;5;21;01m.\u001B[39;00m\u001B[38;5;21;01meager\u001B[39;00m \u001B[38;5;28;01mimport\u001B[39;00m context\n",
      "File \u001B[1;32m~\\AppData\\Local\\Programs\\Python\\Python312\\Lib\\site-packages\\tensorflow\\python\\distribute\\values.py:23\u001B[0m\n\u001B[0;32m     21\u001B[0m \u001B[38;5;28;01mfrom\u001B[39;00m \u001B[38;5;21;01mtensorflow\u001B[39;00m\u001B[38;5;21;01m.\u001B[39;00m\u001B[38;5;21;01mcore\u001B[39;00m\u001B[38;5;21;01m.\u001B[39;00m\u001B[38;5;21;01mprotobuf\u001B[39;00m \u001B[38;5;28;01mimport\u001B[39;00m struct_pb2\n\u001B[0;32m     22\u001B[0m \u001B[38;5;28;01mfrom\u001B[39;00m \u001B[38;5;21;01mtensorflow\u001B[39;00m\u001B[38;5;21;01m.\u001B[39;00m\u001B[38;5;21;01mpython\u001B[39;00m\u001B[38;5;21;01m.\u001B[39;00m\u001B[38;5;21;01mdistribute\u001B[39;00m \u001B[38;5;28;01mimport\u001B[39;00m device_util\n\u001B[1;32m---> 23\u001B[0m \u001B[38;5;28;01mfrom\u001B[39;00m \u001B[38;5;21;01mtensorflow\u001B[39;00m\u001B[38;5;21;01m.\u001B[39;00m\u001B[38;5;21;01mpython\u001B[39;00m\u001B[38;5;21;01m.\u001B[39;00m\u001B[38;5;21;01mdistribute\u001B[39;00m \u001B[38;5;28;01mimport\u001B[39;00m distribute_lib\n\u001B[0;32m     24\u001B[0m \u001B[38;5;28;01mfrom\u001B[39;00m \u001B[38;5;21;01mtensorflow\u001B[39;00m\u001B[38;5;21;01m.\u001B[39;00m\u001B[38;5;21;01mpython\u001B[39;00m\u001B[38;5;21;01m.\u001B[39;00m\u001B[38;5;21;01mdistribute\u001B[39;00m \u001B[38;5;28;01mimport\u001B[39;00m packed_distributed_variable \u001B[38;5;28;01mas\u001B[39;00m packed\n\u001B[0;32m     25\u001B[0m \u001B[38;5;28;01mfrom\u001B[39;00m \u001B[38;5;21;01mtensorflow\u001B[39;00m\u001B[38;5;21;01m.\u001B[39;00m\u001B[38;5;21;01mpython\u001B[39;00m\u001B[38;5;21;01m.\u001B[39;00m\u001B[38;5;21;01mdistribute\u001B[39;00m \u001B[38;5;28;01mimport\u001B[39;00m reduce_util\n",
      "File \u001B[1;32m~\\AppData\\Local\\Programs\\Python\\Python312\\Lib\\site-packages\\tensorflow\\python\\distribute\\distribute_lib.py:205\u001B[0m\n\u001B[0;32m    203\u001B[0m \u001B[38;5;28;01mfrom\u001B[39;00m \u001B[38;5;21;01mtensorflow\u001B[39;00m\u001B[38;5;21;01m.\u001B[39;00m\u001B[38;5;21;01mpython\u001B[39;00m\u001B[38;5;21;01m.\u001B[39;00m\u001B[38;5;21;01mautograph\u001B[39;00m\u001B[38;5;21;01m.\u001B[39;00m\u001B[38;5;21;01mcore\u001B[39;00m \u001B[38;5;28;01mimport\u001B[39;00m ag_ctx \u001B[38;5;28;01mas\u001B[39;00m autograph_ctx\n\u001B[0;32m    204\u001B[0m \u001B[38;5;28;01mfrom\u001B[39;00m \u001B[38;5;21;01mtensorflow\u001B[39;00m\u001B[38;5;21;01m.\u001B[39;00m\u001B[38;5;21;01mpython\u001B[39;00m\u001B[38;5;21;01m.\u001B[39;00m\u001B[38;5;21;01mautograph\u001B[39;00m\u001B[38;5;21;01m.\u001B[39;00m\u001B[38;5;21;01mimpl\u001B[39;00m \u001B[38;5;28;01mimport\u001B[39;00m api \u001B[38;5;28;01mas\u001B[39;00m autograph\n\u001B[1;32m--> 205\u001B[0m \u001B[38;5;28;01mfrom\u001B[39;00m \u001B[38;5;21;01mtensorflow\u001B[39;00m\u001B[38;5;21;01m.\u001B[39;00m\u001B[38;5;21;01mpython\u001B[39;00m\u001B[38;5;21;01m.\u001B[39;00m\u001B[38;5;21;01mdata\u001B[39;00m\u001B[38;5;21;01m.\u001B[39;00m\u001B[38;5;21;01mops\u001B[39;00m \u001B[38;5;28;01mimport\u001B[39;00m dataset_ops\n\u001B[0;32m    206\u001B[0m \u001B[38;5;28;01mfrom\u001B[39;00m \u001B[38;5;21;01mtensorflow\u001B[39;00m\u001B[38;5;21;01m.\u001B[39;00m\u001B[38;5;21;01mpython\u001B[39;00m\u001B[38;5;21;01m.\u001B[39;00m\u001B[38;5;21;01mdistribute\u001B[39;00m \u001B[38;5;28;01mimport\u001B[39;00m collective_util\n\u001B[0;32m    207\u001B[0m \u001B[38;5;28;01mfrom\u001B[39;00m \u001B[38;5;21;01mtensorflow\u001B[39;00m\u001B[38;5;21;01m.\u001B[39;00m\u001B[38;5;21;01mpython\u001B[39;00m\u001B[38;5;21;01m.\u001B[39;00m\u001B[38;5;21;01mdistribute\u001B[39;00m \u001B[38;5;28;01mimport\u001B[39;00m device_util\n",
      "File \u001B[1;32m~\\AppData\\Local\\Programs\\Python\\Python312\\Lib\\site-packages\\tensorflow\\python\\data\\__init__.py:21\u001B[0m\n\u001B[0;32m     15\u001B[0m \u001B[38;5;124;03m\"\"\"`tf.data.Dataset` API for input pipelines.\u001B[39;00m\n\u001B[0;32m     16\u001B[0m \n\u001B[0;32m     17\u001B[0m \u001B[38;5;124;03mSee [Importing Data](https://tensorflow.org/guide/data) for an overview.\u001B[39;00m\n\u001B[0;32m     18\u001B[0m \u001B[38;5;124;03m\"\"\"\u001B[39;00m\n\u001B[0;32m     20\u001B[0m \u001B[38;5;66;03m# pylint: disable=unused-import\u001B[39;00m\n\u001B[1;32m---> 21\u001B[0m \u001B[38;5;28;01mfrom\u001B[39;00m \u001B[38;5;21;01mtensorflow\u001B[39;00m\u001B[38;5;21;01m.\u001B[39;00m\u001B[38;5;21;01mpython\u001B[39;00m\u001B[38;5;21;01m.\u001B[39;00m\u001B[38;5;21;01mdata\u001B[39;00m \u001B[38;5;28;01mimport\u001B[39;00m experimental\n\u001B[0;32m     22\u001B[0m \u001B[38;5;28;01mfrom\u001B[39;00m \u001B[38;5;21;01mtensorflow\u001B[39;00m\u001B[38;5;21;01m.\u001B[39;00m\u001B[38;5;21;01mpython\u001B[39;00m\u001B[38;5;21;01m.\u001B[39;00m\u001B[38;5;21;01mdata\u001B[39;00m\u001B[38;5;21;01m.\u001B[39;00m\u001B[38;5;21;01mops\u001B[39;00m\u001B[38;5;21;01m.\u001B[39;00m\u001B[38;5;21;01mdataset_ops\u001B[39;00m \u001B[38;5;28;01mimport\u001B[39;00m AUTOTUNE\n\u001B[0;32m     23\u001B[0m \u001B[38;5;28;01mfrom\u001B[39;00m \u001B[38;5;21;01mtensorflow\u001B[39;00m\u001B[38;5;21;01m.\u001B[39;00m\u001B[38;5;21;01mpython\u001B[39;00m\u001B[38;5;21;01m.\u001B[39;00m\u001B[38;5;21;01mdata\u001B[39;00m\u001B[38;5;21;01m.\u001B[39;00m\u001B[38;5;21;01mops\u001B[39;00m\u001B[38;5;21;01m.\u001B[39;00m\u001B[38;5;21;01mdataset_ops\u001B[39;00m \u001B[38;5;28;01mimport\u001B[39;00m Dataset\n",
      "File \u001B[1;32m~\\AppData\\Local\\Programs\\Python\\Python312\\Lib\\site-packages\\tensorflow\\python\\data\\experimental\\__init__.py:97\u001B[0m\n\u001B[0;32m     15\u001B[0m \u001B[38;5;124;03m\"\"\"Experimental API for building input pipelines.\u001B[39;00m\n\u001B[0;32m     16\u001B[0m \n\u001B[0;32m     17\u001B[0m \u001B[38;5;124;03mThis module contains experimental `Dataset` sources and transformations that can\u001B[39;00m\n\u001B[1;32m   (...)\u001B[0m\n\u001B[0;32m     93\u001B[0m \u001B[38;5;124;03m@@UNKNOWN_CARDINALITY\u001B[39;00m\n\u001B[0;32m     94\u001B[0m \u001B[38;5;124;03m\"\"\"\u001B[39;00m\n\u001B[0;32m     96\u001B[0m \u001B[38;5;66;03m# pylint: disable=unused-import\u001B[39;00m\n\u001B[1;32m---> 97\u001B[0m \u001B[38;5;28;01mfrom\u001B[39;00m \u001B[38;5;21;01mtensorflow\u001B[39;00m\u001B[38;5;21;01m.\u001B[39;00m\u001B[38;5;21;01mpython\u001B[39;00m\u001B[38;5;21;01m.\u001B[39;00m\u001B[38;5;21;01mdata\u001B[39;00m\u001B[38;5;21;01m.\u001B[39;00m\u001B[38;5;21;01mexperimental\u001B[39;00m \u001B[38;5;28;01mimport\u001B[39;00m service\n\u001B[0;32m     98\u001B[0m \u001B[38;5;28;01mfrom\u001B[39;00m \u001B[38;5;21;01mtensorflow\u001B[39;00m\u001B[38;5;21;01m.\u001B[39;00m\u001B[38;5;21;01mpython\u001B[39;00m\u001B[38;5;21;01m.\u001B[39;00m\u001B[38;5;21;01mdata\u001B[39;00m\u001B[38;5;21;01m.\u001B[39;00m\u001B[38;5;21;01mexperimental\u001B[39;00m\u001B[38;5;21;01m.\u001B[39;00m\u001B[38;5;21;01mops\u001B[39;00m\u001B[38;5;21;01m.\u001B[39;00m\u001B[38;5;21;01mbatching\u001B[39;00m \u001B[38;5;28;01mimport\u001B[39;00m dense_to_ragged_batch\n\u001B[0;32m     99\u001B[0m \u001B[38;5;28;01mfrom\u001B[39;00m \u001B[38;5;21;01mtensorflow\u001B[39;00m\u001B[38;5;21;01m.\u001B[39;00m\u001B[38;5;21;01mpython\u001B[39;00m\u001B[38;5;21;01m.\u001B[39;00m\u001B[38;5;21;01mdata\u001B[39;00m\u001B[38;5;21;01m.\u001B[39;00m\u001B[38;5;21;01mexperimental\u001B[39;00m\u001B[38;5;21;01m.\u001B[39;00m\u001B[38;5;21;01mops\u001B[39;00m\u001B[38;5;21;01m.\u001B[39;00m\u001B[38;5;21;01mbatching\u001B[39;00m \u001B[38;5;28;01mimport\u001B[39;00m dense_to_sparse_batch\n",
      "File \u001B[1;32m~\\AppData\\Local\\Programs\\Python\\Python312\\Lib\\site-packages\\tensorflow\\python\\data\\experimental\\service\\__init__.py:419\u001B[0m\n\u001B[0;32m      1\u001B[0m \u001B[38;5;66;03m# Copyright 2020 The TensorFlow Authors. All Rights Reserved.\u001B[39;00m\n\u001B[0;32m      2\u001B[0m \u001B[38;5;66;03m#\u001B[39;00m\n\u001B[0;32m      3\u001B[0m \u001B[38;5;66;03m# Licensed under the Apache License, Version 2.0 (the \"License\");\u001B[39;00m\n\u001B[1;32m   (...)\u001B[0m\n\u001B[0;32m     13\u001B[0m \u001B[38;5;66;03m# limitations under the License.\u001B[39;00m\n\u001B[0;32m     14\u001B[0m \u001B[38;5;66;03m# ==============================================================================\u001B[39;00m\n\u001B[0;32m     15\u001B[0m \u001B[38;5;124;03m\"\"\"API for using the tf.data service.\u001B[39;00m\n\u001B[0;32m     16\u001B[0m \n\u001B[0;32m     17\u001B[0m \u001B[38;5;124;03mThis module contains:\u001B[39;00m\n\u001B[1;32m   (...)\u001B[0m\n\u001B[0;32m    416\u001B[0m \u001B[38;5;124;03m  job of ParameterServerStrategy).\u001B[39;00m\n\u001B[0;32m    417\u001B[0m \u001B[38;5;124;03m\"\"\"\u001B[39;00m\n\u001B[1;32m--> 419\u001B[0m \u001B[38;5;28;01mfrom\u001B[39;00m \u001B[38;5;21;01mtensorflow\u001B[39;00m\u001B[38;5;21;01m.\u001B[39;00m\u001B[38;5;21;01mpython\u001B[39;00m\u001B[38;5;21;01m.\u001B[39;00m\u001B[38;5;21;01mdata\u001B[39;00m\u001B[38;5;21;01m.\u001B[39;00m\u001B[38;5;21;01mexperimental\u001B[39;00m\u001B[38;5;21;01m.\u001B[39;00m\u001B[38;5;21;01mops\u001B[39;00m\u001B[38;5;21;01m.\u001B[39;00m\u001B[38;5;21;01mdata_service_ops\u001B[39;00m \u001B[38;5;28;01mimport\u001B[39;00m distribute\n\u001B[0;32m    420\u001B[0m \u001B[38;5;28;01mfrom\u001B[39;00m \u001B[38;5;21;01mtensorflow\u001B[39;00m\u001B[38;5;21;01m.\u001B[39;00m\u001B[38;5;21;01mpython\u001B[39;00m\u001B[38;5;21;01m.\u001B[39;00m\u001B[38;5;21;01mdata\u001B[39;00m\u001B[38;5;21;01m.\u001B[39;00m\u001B[38;5;21;01mexperimental\u001B[39;00m\u001B[38;5;21;01m.\u001B[39;00m\u001B[38;5;21;01mops\u001B[39;00m\u001B[38;5;21;01m.\u001B[39;00m\u001B[38;5;21;01mdata_service_ops\u001B[39;00m \u001B[38;5;28;01mimport\u001B[39;00m from_dataset_id\n\u001B[0;32m    421\u001B[0m \u001B[38;5;28;01mfrom\u001B[39;00m \u001B[38;5;21;01mtensorflow\u001B[39;00m\u001B[38;5;21;01m.\u001B[39;00m\u001B[38;5;21;01mpython\u001B[39;00m\u001B[38;5;21;01m.\u001B[39;00m\u001B[38;5;21;01mdata\u001B[39;00m\u001B[38;5;21;01m.\u001B[39;00m\u001B[38;5;21;01mexperimental\u001B[39;00m\u001B[38;5;21;01m.\u001B[39;00m\u001B[38;5;21;01mops\u001B[39;00m\u001B[38;5;21;01m.\u001B[39;00m\u001B[38;5;21;01mdata_service_ops\u001B[39;00m \u001B[38;5;28;01mimport\u001B[39;00m register_dataset\n",
      "File \u001B[1;32m~\\AppData\\Local\\Programs\\Python\\Python312\\Lib\\site-packages\\tensorflow\\python\\data\\experimental\\ops\\data_service_ops.py:23\u001B[0m\n\u001B[0;32m     21\u001B[0m \u001B[38;5;28;01mfrom\u001B[39;00m \u001B[38;5;21;01mtensorflow\u001B[39;00m\u001B[38;5;21;01m.\u001B[39;00m\u001B[38;5;21;01mcore\u001B[39;00m\u001B[38;5;21;01m.\u001B[39;00m\u001B[38;5;21;01mprotobuf\u001B[39;00m \u001B[38;5;28;01mimport\u001B[39;00m data_service_pb2\n\u001B[0;32m     22\u001B[0m \u001B[38;5;28;01mfrom\u001B[39;00m \u001B[38;5;21;01mtensorflow\u001B[39;00m\u001B[38;5;21;01m.\u001B[39;00m\u001B[38;5;21;01mpython\u001B[39;00m \u001B[38;5;28;01mimport\u001B[39;00m tf2\n\u001B[1;32m---> 23\u001B[0m \u001B[38;5;28;01mfrom\u001B[39;00m \u001B[38;5;21;01mtensorflow\u001B[39;00m\u001B[38;5;21;01m.\u001B[39;00m\u001B[38;5;21;01mpython\u001B[39;00m\u001B[38;5;21;01m.\u001B[39;00m\u001B[38;5;21;01mdata\u001B[39;00m\u001B[38;5;21;01m.\u001B[39;00m\u001B[38;5;21;01mexperimental\u001B[39;00m\u001B[38;5;21;01m.\u001B[39;00m\u001B[38;5;21;01mops\u001B[39;00m \u001B[38;5;28;01mimport\u001B[39;00m compression_ops\n\u001B[0;32m     24\u001B[0m \u001B[38;5;28;01mfrom\u001B[39;00m \u001B[38;5;21;01mtensorflow\u001B[39;00m\u001B[38;5;21;01m.\u001B[39;00m\u001B[38;5;21;01mpython\u001B[39;00m\u001B[38;5;21;01m.\u001B[39;00m\u001B[38;5;21;01mdata\u001B[39;00m\u001B[38;5;21;01m.\u001B[39;00m\u001B[38;5;21;01mexperimental\u001B[39;00m\u001B[38;5;21;01m.\u001B[39;00m\u001B[38;5;21;01mservice\u001B[39;00m \u001B[38;5;28;01mimport\u001B[39;00m _pywrap_server_lib\n\u001B[0;32m     25\u001B[0m \u001B[38;5;28;01mfrom\u001B[39;00m \u001B[38;5;21;01mtensorflow\u001B[39;00m\u001B[38;5;21;01m.\u001B[39;00m\u001B[38;5;21;01mpython\u001B[39;00m\u001B[38;5;21;01m.\u001B[39;00m\u001B[38;5;21;01mdata\u001B[39;00m\u001B[38;5;21;01m.\u001B[39;00m\u001B[38;5;21;01mexperimental\u001B[39;00m\u001B[38;5;21;01m.\u001B[39;00m\u001B[38;5;21;01mservice\u001B[39;00m \u001B[38;5;28;01mimport\u001B[39;00m _pywrap_utils\n",
      "File \u001B[1;32m~\\AppData\\Local\\Programs\\Python\\Python312\\Lib\\site-packages\\tensorflow\\python\\data\\experimental\\ops\\compression_ops.py:16\u001B[0m\n\u001B[0;32m      1\u001B[0m \u001B[38;5;66;03m# Copyright 2020 The TensorFlow Authors. All Rights Reserved.\u001B[39;00m\n\u001B[0;32m      2\u001B[0m \u001B[38;5;66;03m#\u001B[39;00m\n\u001B[0;32m      3\u001B[0m \u001B[38;5;66;03m# Licensed under the Apache License, Version 2.0 (the \"License\");\u001B[39;00m\n\u001B[1;32m   (...)\u001B[0m\n\u001B[0;32m     13\u001B[0m \u001B[38;5;66;03m# limitations under the License.\u001B[39;00m\n\u001B[0;32m     14\u001B[0m \u001B[38;5;66;03m# ==============================================================================\u001B[39;00m\n\u001B[0;32m     15\u001B[0m \u001B[38;5;124;03m\"\"\"Ops for compressing and uncompressing dataset elements.\"\"\"\u001B[39;00m\n\u001B[1;32m---> 16\u001B[0m \u001B[38;5;28;01mfrom\u001B[39;00m \u001B[38;5;21;01mtensorflow\u001B[39;00m\u001B[38;5;21;01m.\u001B[39;00m\u001B[38;5;21;01mpython\u001B[39;00m\u001B[38;5;21;01m.\u001B[39;00m\u001B[38;5;21;01mdata\u001B[39;00m\u001B[38;5;21;01m.\u001B[39;00m\u001B[38;5;21;01mutil\u001B[39;00m \u001B[38;5;28;01mimport\u001B[39;00m structure\n\u001B[0;32m     17\u001B[0m \u001B[38;5;28;01mfrom\u001B[39;00m \u001B[38;5;21;01mtensorflow\u001B[39;00m\u001B[38;5;21;01m.\u001B[39;00m\u001B[38;5;21;01mpython\u001B[39;00m\u001B[38;5;21;01m.\u001B[39;00m\u001B[38;5;21;01mops\u001B[39;00m \u001B[38;5;28;01mimport\u001B[39;00m gen_experimental_dataset_ops \u001B[38;5;28;01mas\u001B[39;00m ged_ops\n\u001B[0;32m     20\u001B[0m \u001B[38;5;28;01mdef\u001B[39;00m \u001B[38;5;21mcompress\u001B[39m(element):\n",
      "File \u001B[1;32m~\\AppData\\Local\\Programs\\Python\\Python312\\Lib\\site-packages\\tensorflow\\python\\data\\util\\structure.py:32\u001B[0m\n\u001B[0;32m     30\u001B[0m \u001B[38;5;28;01mfrom\u001B[39;00m \u001B[38;5;21;01mtensorflow\u001B[39;00m\u001B[38;5;21;01m.\u001B[39;00m\u001B[38;5;21;01mpython\u001B[39;00m\u001B[38;5;21;01m.\u001B[39;00m\u001B[38;5;21;01mops\u001B[39;00m \u001B[38;5;28;01mimport\u001B[39;00m resource_variable_ops\n\u001B[0;32m     31\u001B[0m \u001B[38;5;28;01mfrom\u001B[39;00m \u001B[38;5;21;01mtensorflow\u001B[39;00m\u001B[38;5;21;01m.\u001B[39;00m\u001B[38;5;21;01mpython\u001B[39;00m\u001B[38;5;21;01m.\u001B[39;00m\u001B[38;5;21;01mops\u001B[39;00m \u001B[38;5;28;01mimport\u001B[39;00m tensor_array_ops\n\u001B[1;32m---> 32\u001B[0m \u001B[38;5;28;01mfrom\u001B[39;00m \u001B[38;5;21;01mtensorflow\u001B[39;00m\u001B[38;5;21;01m.\u001B[39;00m\u001B[38;5;21;01mpython\u001B[39;00m\u001B[38;5;21;01m.\u001B[39;00m\u001B[38;5;21;01mops\u001B[39;00m\u001B[38;5;21;01m.\u001B[39;00m\u001B[38;5;21;01mragged\u001B[39;00m \u001B[38;5;28;01mimport\u001B[39;00m ragged_tensor\n\u001B[0;32m     33\u001B[0m \u001B[38;5;28;01mfrom\u001B[39;00m \u001B[38;5;21;01mtensorflow\u001B[39;00m\u001B[38;5;21;01m.\u001B[39;00m\u001B[38;5;21;01mpython\u001B[39;00m\u001B[38;5;21;01m.\u001B[39;00m\u001B[38;5;21;01mplatform\u001B[39;00m \u001B[38;5;28;01mimport\u001B[39;00m tf_logging \u001B[38;5;28;01mas\u001B[39;00m logging\n\u001B[0;32m     34\u001B[0m \u001B[38;5;28;01mfrom\u001B[39;00m \u001B[38;5;21;01mtensorflow\u001B[39;00m\u001B[38;5;21;01m.\u001B[39;00m\u001B[38;5;21;01mpython\u001B[39;00m\u001B[38;5;21;01m.\u001B[39;00m\u001B[38;5;21;01mtypes\u001B[39;00m \u001B[38;5;28;01mimport\u001B[39;00m internal\n",
      "File \u001B[1;32m~\\AppData\\Local\\Programs\\Python\\Python312\\Lib\\site-packages\\tensorflow\\python\\ops\\ragged\\__init__.py:28\u001B[0m\n\u001B[0;32m      1\u001B[0m \u001B[38;5;66;03m# Copyright 2018 The TensorFlow Authors. All Rights Reserved.\u001B[39;00m\n\u001B[0;32m      2\u001B[0m \u001B[38;5;66;03m#\u001B[39;00m\n\u001B[0;32m      3\u001B[0m \u001B[38;5;66;03m# Licensed under the Apache License, Version 2.0 (the \"License\");\u001B[39;00m\n\u001B[1;32m   (...)\u001B[0m\n\u001B[0;32m     13\u001B[0m \u001B[38;5;66;03m# limitations under the License.\u001B[39;00m\n\u001B[0;32m     14\u001B[0m \u001B[38;5;66;03m# ==============================================================================\u001B[39;00m\n\u001B[0;32m     15\u001B[0m \u001B[38;5;124;03m\"\"\"Ragged Tensors.\u001B[39;00m\n\u001B[0;32m     16\u001B[0m \n\u001B[0;32m     17\u001B[0m \u001B[38;5;124;03mThis package defines ops for manipulating ragged tensors (`tf.RaggedTensor`),\u001B[39;00m\n\u001B[1;32m   (...)\u001B[0m\n\u001B[0;32m     26\u001B[0m \u001B[38;5;124;03mAPI docstring: tensorflow.ragged\u001B[39;00m\n\u001B[0;32m     27\u001B[0m \u001B[38;5;124;03m\"\"\"\u001B[39;00m\n\u001B[1;32m---> 28\u001B[0m \u001B[38;5;28;01mfrom\u001B[39;00m \u001B[38;5;21;01mtensorflow\u001B[39;00m\u001B[38;5;21;01m.\u001B[39;00m\u001B[38;5;21;01mpython\u001B[39;00m\u001B[38;5;21;01m.\u001B[39;00m\u001B[38;5;21;01mops\u001B[39;00m\u001B[38;5;21;01m.\u001B[39;00m\u001B[38;5;21;01mragged\u001B[39;00m \u001B[38;5;28;01mimport\u001B[39;00m ragged_tensor\n",
      "File \u001B[1;32m~\\AppData\\Local\\Programs\\Python\\Python312\\Lib\\site-packages\\tensorflow\\python\\ops\\ragged\\ragged_tensor.py:3149\u001B[0m\n\u001B[0;32m   3144\u001B[0m RaggedOrDense \u001B[38;5;241m=\u001B[39m typing\u001B[38;5;241m.\u001B[39mUnion[Ragged, core_types\u001B[38;5;241m.\u001B[39mTensorLike]\n\u001B[0;32m   3146\u001B[0m \u001B[38;5;66;03m# RaggedTensor must import ragged_ops to ensure that all dispatched ragged ops\u001B[39;00m\n\u001B[0;32m   3147\u001B[0m \u001B[38;5;66;03m# are registered. Ragged ops import RaggedTensor, so import at bottom of the\u001B[39;00m\n\u001B[0;32m   3148\u001B[0m \u001B[38;5;66;03m# file to avoid a partially-initialized module error.\u001B[39;00m\n\u001B[1;32m-> 3149\u001B[0m \u001B[38;5;28;01mfrom\u001B[39;00m \u001B[38;5;21;01mtensorflow\u001B[39;00m\u001B[38;5;21;01m.\u001B[39;00m\u001B[38;5;21;01mpython\u001B[39;00m\u001B[38;5;21;01m.\u001B[39;00m\u001B[38;5;21;01mops\u001B[39;00m\u001B[38;5;21;01m.\u001B[39;00m\u001B[38;5;21;01mragged\u001B[39;00m \u001B[38;5;28;01mimport\u001B[39;00m ragged_ops  \u001B[38;5;66;03m# pylint: disable=unused-import, g-bad-import-order, g-import-not-at-top\u001B[39;00m\n",
      "File \u001B[1;32m~\\AppData\\Local\\Programs\\Python\\Python312\\Lib\\site-packages\\tensorflow\\python\\ops\\ragged\\ragged_ops.py:41\u001B[0m\n\u001B[0;32m     39\u001B[0m \u001B[38;5;28;01mfrom\u001B[39;00m \u001B[38;5;21;01mtensorflow\u001B[39;00m\u001B[38;5;21;01m.\u001B[39;00m\u001B[38;5;21;01mpython\u001B[39;00m\u001B[38;5;21;01m.\u001B[39;00m\u001B[38;5;21;01mops\u001B[39;00m\u001B[38;5;21;01m.\u001B[39;00m\u001B[38;5;21;01mragged\u001B[39;00m \u001B[38;5;28;01mimport\u001B[39;00m ragged_gather_ops\n\u001B[0;32m     40\u001B[0m \u001B[38;5;28;01mfrom\u001B[39;00m \u001B[38;5;21;01mtensorflow\u001B[39;00m\u001B[38;5;21;01m.\u001B[39;00m\u001B[38;5;21;01mpython\u001B[39;00m\u001B[38;5;21;01m.\u001B[39;00m\u001B[38;5;21;01mops\u001B[39;00m\u001B[38;5;21;01m.\u001B[39;00m\u001B[38;5;21;01mragged\u001B[39;00m \u001B[38;5;28;01mimport\u001B[39;00m ragged_getitem\n\u001B[1;32m---> 41\u001B[0m \u001B[38;5;28;01mfrom\u001B[39;00m \u001B[38;5;21;01mtensorflow\u001B[39;00m\u001B[38;5;21;01m.\u001B[39;00m\u001B[38;5;21;01mpython\u001B[39;00m\u001B[38;5;21;01m.\u001B[39;00m\u001B[38;5;21;01mops\u001B[39;00m\u001B[38;5;21;01m.\u001B[39;00m\u001B[38;5;21;01mragged\u001B[39;00m \u001B[38;5;28;01mimport\u001B[39;00m ragged_image_ops\n\u001B[0;32m     42\u001B[0m \u001B[38;5;28;01mfrom\u001B[39;00m \u001B[38;5;21;01mtensorflow\u001B[39;00m\u001B[38;5;21;01m.\u001B[39;00m\u001B[38;5;21;01mpython\u001B[39;00m\u001B[38;5;21;01m.\u001B[39;00m\u001B[38;5;21;01mops\u001B[39;00m\u001B[38;5;21;01m.\u001B[39;00m\u001B[38;5;21;01mragged\u001B[39;00m \u001B[38;5;28;01mimport\u001B[39;00m ragged_map_ops\n\u001B[0;32m     43\u001B[0m \u001B[38;5;28;01mfrom\u001B[39;00m \u001B[38;5;21;01mtensorflow\u001B[39;00m\u001B[38;5;21;01m.\u001B[39;00m\u001B[38;5;21;01mpython\u001B[39;00m\u001B[38;5;21;01m.\u001B[39;00m\u001B[38;5;21;01mops\u001B[39;00m\u001B[38;5;21;01m.\u001B[39;00m\u001B[38;5;21;01mragged\u001B[39;00m \u001B[38;5;28;01mimport\u001B[39;00m ragged_math_ops\n",
      "File \u001B[1;32m~\\AppData\\Local\\Programs\\Python\\Python312\\Lib\\site-packages\\tensorflow\\python\\ops\\ragged\\ragged_image_ops.py:24\u001B[0m\n\u001B[0;32m     22\u001B[0m \u001B[38;5;28;01mfrom\u001B[39;00m \u001B[38;5;21;01mtensorflow\u001B[39;00m\u001B[38;5;21;01m.\u001B[39;00m\u001B[38;5;21;01mpython\u001B[39;00m\u001B[38;5;21;01m.\u001B[39;00m\u001B[38;5;21;01mops\u001B[39;00m \u001B[38;5;28;01mimport\u001B[39;00m array_ops\n\u001B[0;32m     23\u001B[0m \u001B[38;5;28;01mfrom\u001B[39;00m \u001B[38;5;21;01mtensorflow\u001B[39;00m\u001B[38;5;21;01m.\u001B[39;00m\u001B[38;5;21;01mpython\u001B[39;00m\u001B[38;5;21;01m.\u001B[39;00m\u001B[38;5;21;01mops\u001B[39;00m \u001B[38;5;28;01mimport\u001B[39;00m cond\n\u001B[1;32m---> 24\u001B[0m \u001B[38;5;28;01mfrom\u001B[39;00m \u001B[38;5;21;01mtensorflow\u001B[39;00m\u001B[38;5;21;01m.\u001B[39;00m\u001B[38;5;21;01mpython\u001B[39;00m\u001B[38;5;21;01m.\u001B[39;00m\u001B[38;5;21;01mops\u001B[39;00m \u001B[38;5;28;01mimport\u001B[39;00m image_ops\n\u001B[0;32m     25\u001B[0m \u001B[38;5;28;01mfrom\u001B[39;00m \u001B[38;5;21;01mtensorflow\u001B[39;00m\u001B[38;5;21;01m.\u001B[39;00m\u001B[38;5;21;01mpython\u001B[39;00m\u001B[38;5;21;01m.\u001B[39;00m\u001B[38;5;21;01mops\u001B[39;00m \u001B[38;5;28;01mimport\u001B[39;00m map_fn\n\u001B[0;32m     26\u001B[0m \u001B[38;5;28;01mfrom\u001B[39;00m \u001B[38;5;21;01mtensorflow\u001B[39;00m\u001B[38;5;21;01m.\u001B[39;00m\u001B[38;5;21;01mpython\u001B[39;00m\u001B[38;5;21;01m.\u001B[39;00m\u001B[38;5;21;01mops\u001B[39;00m \u001B[38;5;28;01mimport\u001B[39;00m math_ops\n",
      "File \u001B[1;32m~\\AppData\\Local\\Programs\\Python\\Python312\\Lib\\site-packages\\tensorflow\\python\\ops\\image_ops.py:159\u001B[0m\n\u001B[0;32m    156\u001B[0m \u001B[38;5;66;03m# go/tf-wildcard-import\u001B[39;00m\n\u001B[0;32m    157\u001B[0m \u001B[38;5;66;03m# pylint: disable=wildcard-import\u001B[39;00m\n\u001B[0;32m    158\u001B[0m \u001B[38;5;28;01mfrom\u001B[39;00m \u001B[38;5;21;01mtensorflow\u001B[39;00m\u001B[38;5;21;01m.\u001B[39;00m\u001B[38;5;21;01mpython\u001B[39;00m\u001B[38;5;21;01m.\u001B[39;00m\u001B[38;5;21;01mops\u001B[39;00m\u001B[38;5;21;01m.\u001B[39;00m\u001B[38;5;21;01mgen_image_ops\u001B[39;00m \u001B[38;5;28;01mimport\u001B[39;00m \u001B[38;5;241m*\u001B[39m\n\u001B[1;32m--> 159\u001B[0m \u001B[38;5;28;01mfrom\u001B[39;00m \u001B[38;5;21;01mtensorflow\u001B[39;00m\u001B[38;5;21;01m.\u001B[39;00m\u001B[38;5;21;01mpython\u001B[39;00m\u001B[38;5;21;01m.\u001B[39;00m\u001B[38;5;21;01mops\u001B[39;00m\u001B[38;5;21;01m.\u001B[39;00m\u001B[38;5;21;01mimage_ops_impl\u001B[39;00m \u001B[38;5;28;01mimport\u001B[39;00m \u001B[38;5;241m*\u001B[39m\n\u001B[0;32m    160\u001B[0m \u001B[38;5;66;03m# pylint: enable=wildcard-import\u001B[39;00m\n\u001B[0;32m    161\u001B[0m \n\u001B[0;32m    162\u001B[0m \u001B[38;5;66;03m# TODO(drpng): remove these once internal use has discontinued.\u001B[39;00m\n\u001B[0;32m    163\u001B[0m \u001B[38;5;66;03m# pylint: disable=unused-import\u001B[39;00m\n\u001B[0;32m    164\u001B[0m \u001B[38;5;28;01mfrom\u001B[39;00m \u001B[38;5;21;01mtensorflow\u001B[39;00m\u001B[38;5;21;01m.\u001B[39;00m\u001B[38;5;21;01mpython\u001B[39;00m\u001B[38;5;21;01m.\u001B[39;00m\u001B[38;5;21;01mops\u001B[39;00m\u001B[38;5;21;01m.\u001B[39;00m\u001B[38;5;21;01mimage_ops_impl\u001B[39;00m \u001B[38;5;28;01mimport\u001B[39;00m _Check3DImage\n",
      "File \u001B[1;32m~\\AppData\\Local\\Programs\\Python\\Python312\\Lib\\site-packages\\tensorflow\\python\\ops\\image_ops_impl.py:40\u001B[0m\n\u001B[0;32m     38\u001B[0m \u001B[38;5;28;01mfrom\u001B[39;00m \u001B[38;5;21;01mtensorflow\u001B[39;00m\u001B[38;5;21;01m.\u001B[39;00m\u001B[38;5;21;01mpython\u001B[39;00m\u001B[38;5;21;01m.\u001B[39;00m\u001B[38;5;21;01mops\u001B[39;00m \u001B[38;5;28;01mimport\u001B[39;00m gen_image_ops\n\u001B[0;32m     39\u001B[0m \u001B[38;5;28;01mfrom\u001B[39;00m \u001B[38;5;21;01mtensorflow\u001B[39;00m\u001B[38;5;21;01m.\u001B[39;00m\u001B[38;5;21;01mpython\u001B[39;00m\u001B[38;5;21;01m.\u001B[39;00m\u001B[38;5;21;01mops\u001B[39;00m \u001B[38;5;28;01mimport\u001B[39;00m math_ops\n\u001B[1;32m---> 40\u001B[0m \u001B[38;5;28;01mfrom\u001B[39;00m \u001B[38;5;21;01mtensorflow\u001B[39;00m\u001B[38;5;21;01m.\u001B[39;00m\u001B[38;5;21;01mpython\u001B[39;00m\u001B[38;5;21;01m.\u001B[39;00m\u001B[38;5;21;01mops\u001B[39;00m \u001B[38;5;28;01mimport\u001B[39;00m nn_impl\n\u001B[0;32m     41\u001B[0m \u001B[38;5;28;01mfrom\u001B[39;00m \u001B[38;5;21;01mtensorflow\u001B[39;00m\u001B[38;5;21;01m.\u001B[39;00m\u001B[38;5;21;01mpython\u001B[39;00m\u001B[38;5;21;01m.\u001B[39;00m\u001B[38;5;21;01mops\u001B[39;00m \u001B[38;5;28;01mimport\u001B[39;00m nn_ops\n\u001B[0;32m     42\u001B[0m \u001B[38;5;28;01mfrom\u001B[39;00m \u001B[38;5;21;01mtensorflow\u001B[39;00m\u001B[38;5;21;01m.\u001B[39;00m\u001B[38;5;21;01mpython\u001B[39;00m\u001B[38;5;21;01m.\u001B[39;00m\u001B[38;5;21;01mops\u001B[39;00m \u001B[38;5;28;01mimport\u001B[39;00m random_ops\n",
      "File \u001B[1;32m~\\AppData\\Local\\Programs\\Python\\Python312\\Lib\\site-packages\\tensorflow\\python\\ops\\nn_impl.py:26\u001B[0m\n\u001B[0;32m     24\u001B[0m \u001B[38;5;28;01mfrom\u001B[39;00m \u001B[38;5;21;01mtensorflow\u001B[39;00m\u001B[38;5;21;01m.\u001B[39;00m\u001B[38;5;21;01mpython\u001B[39;00m\u001B[38;5;21;01m.\u001B[39;00m\u001B[38;5;21;01mops\u001B[39;00m \u001B[38;5;28;01mimport\u001B[39;00m candidate_sampling_ops\n\u001B[0;32m     25\u001B[0m \u001B[38;5;28;01mfrom\u001B[39;00m \u001B[38;5;21;01mtensorflow\u001B[39;00m\u001B[38;5;21;01m.\u001B[39;00m\u001B[38;5;21;01mpython\u001B[39;00m\u001B[38;5;21;01m.\u001B[39;00m\u001B[38;5;21;01mops\u001B[39;00m \u001B[38;5;28;01mimport\u001B[39;00m cond \u001B[38;5;28;01mas\u001B[39;00m tf_cond\n\u001B[1;32m---> 26\u001B[0m \u001B[38;5;28;01mfrom\u001B[39;00m \u001B[38;5;21;01mtensorflow\u001B[39;00m\u001B[38;5;21;01m.\u001B[39;00m\u001B[38;5;21;01mpython\u001B[39;00m\u001B[38;5;21;01m.\u001B[39;00m\u001B[38;5;21;01mops\u001B[39;00m \u001B[38;5;28;01mimport\u001B[39;00m ctc_ops  \u001B[38;5;66;03m# pylint: disable=unused-import\u001B[39;00m\n\u001B[0;32m     27\u001B[0m \u001B[38;5;28;01mfrom\u001B[39;00m \u001B[38;5;21;01mtensorflow\u001B[39;00m\u001B[38;5;21;01m.\u001B[39;00m\u001B[38;5;21;01mpython\u001B[39;00m\u001B[38;5;21;01m.\u001B[39;00m\u001B[38;5;21;01mops\u001B[39;00m \u001B[38;5;28;01mimport\u001B[39;00m custom_gradient\n\u001B[0;32m     28\u001B[0m \u001B[38;5;28;01mfrom\u001B[39;00m \u001B[38;5;21;01mtensorflow\u001B[39;00m\u001B[38;5;21;01m.\u001B[39;00m\u001B[38;5;21;01mpython\u001B[39;00m\u001B[38;5;21;01m.\u001B[39;00m\u001B[38;5;21;01mops\u001B[39;00m \u001B[38;5;28;01mimport\u001B[39;00m embedding_ops\n",
      "File \u001B[1;32m~\\AppData\\Local\\Programs\\Python\\Python312\\Lib\\site-packages\\tensorflow\\python\\ops\\ctc_ops.py:32\u001B[0m\n\u001B[0;32m     30\u001B[0m \u001B[38;5;28;01mfrom\u001B[39;00m \u001B[38;5;21;01mtensorflow\u001B[39;00m\u001B[38;5;21;01m.\u001B[39;00m\u001B[38;5;21;01mpython\u001B[39;00m\u001B[38;5;21;01m.\u001B[39;00m\u001B[38;5;21;01mops\u001B[39;00m \u001B[38;5;28;01mimport\u001B[39;00m array_ops\n\u001B[0;32m     31\u001B[0m \u001B[38;5;28;01mfrom\u001B[39;00m \u001B[38;5;21;01mtensorflow\u001B[39;00m\u001B[38;5;21;01m.\u001B[39;00m\u001B[38;5;21;01mpython\u001B[39;00m\u001B[38;5;21;01m.\u001B[39;00m\u001B[38;5;21;01mops\u001B[39;00m \u001B[38;5;28;01mimport\u001B[39;00m array_ops_stack\n\u001B[1;32m---> 32\u001B[0m \u001B[38;5;28;01mfrom\u001B[39;00m \u001B[38;5;21;01mtensorflow\u001B[39;00m\u001B[38;5;21;01m.\u001B[39;00m\u001B[38;5;21;01mpython\u001B[39;00m\u001B[38;5;21;01m.\u001B[39;00m\u001B[38;5;21;01mops\u001B[39;00m \u001B[38;5;28;01mimport\u001B[39;00m custom_gradient\n\u001B[0;32m     33\u001B[0m \u001B[38;5;28;01mfrom\u001B[39;00m \u001B[38;5;21;01mtensorflow\u001B[39;00m\u001B[38;5;21;01m.\u001B[39;00m\u001B[38;5;21;01mpython\u001B[39;00m\u001B[38;5;21;01m.\u001B[39;00m\u001B[38;5;21;01mops\u001B[39;00m \u001B[38;5;28;01mimport\u001B[39;00m functional_ops\n\u001B[0;32m     34\u001B[0m \u001B[38;5;28;01mfrom\u001B[39;00m \u001B[38;5;21;01mtensorflow\u001B[39;00m\u001B[38;5;21;01m.\u001B[39;00m\u001B[38;5;21;01mpython\u001B[39;00m\u001B[38;5;21;01m.\u001B[39;00m\u001B[38;5;21;01mops\u001B[39;00m \u001B[38;5;28;01mimport\u001B[39;00m gen_array_ops\n",
      "File \u001B[1;32m~\\AppData\\Local\\Programs\\Python\\Python312\\Lib\\site-packages\\tensorflow\\python\\ops\\custom_gradient.py:17\u001B[0m\n\u001B[0;32m      1\u001B[0m \u001B[38;5;66;03m# Copyright 2017 The TensorFlow Authors. All Rights Reserved.\u001B[39;00m\n\u001B[0;32m      2\u001B[0m \u001B[38;5;66;03m#\u001B[39;00m\n\u001B[0;32m      3\u001B[0m \u001B[38;5;66;03m# Licensed under the Apache License, Version 2.0 (the \"License\");\u001B[39;00m\n\u001B[1;32m   (...)\u001B[0m\n\u001B[0;32m     13\u001B[0m \u001B[38;5;66;03m# limitations under the License.\u001B[39;00m\n\u001B[0;32m     14\u001B[0m \u001B[38;5;66;03m# ==============================================================================\u001B[39;00m\n\u001B[0;32m     15\u001B[0m \u001B[38;5;124;03m\"\"\"Decorator to overrides the gradient for a function.\"\"\"\u001B[39;00m\n\u001B[1;32m---> 17\u001B[0m \u001B[38;5;28;01mfrom\u001B[39;00m \u001B[38;5;21;01mtensorflow\u001B[39;00m\u001B[38;5;21;01m.\u001B[39;00m\u001B[38;5;21;01mpython\u001B[39;00m\u001B[38;5;21;01m.\u001B[39;00m\u001B[38;5;21;01meager\u001B[39;00m \u001B[38;5;28;01mimport\u001B[39;00m backprop\n\u001B[0;32m     18\u001B[0m \u001B[38;5;28;01mfrom\u001B[39;00m \u001B[38;5;21;01mtensorflow\u001B[39;00m\u001B[38;5;21;01m.\u001B[39;00m\u001B[38;5;21;01mpython\u001B[39;00m\u001B[38;5;21;01m.\u001B[39;00m\u001B[38;5;21;01meager\u001B[39;00m \u001B[38;5;28;01mimport\u001B[39;00m context\n\u001B[0;32m     19\u001B[0m \u001B[38;5;28;01mfrom\u001B[39;00m \u001B[38;5;21;01mtensorflow\u001B[39;00m\u001B[38;5;21;01m.\u001B[39;00m\u001B[38;5;21;01mpython\u001B[39;00m\u001B[38;5;21;01m.\u001B[39;00m\u001B[38;5;21;01meager\u001B[39;00m \u001B[38;5;28;01mimport\u001B[39;00m record\n",
      "File \u001B[1;32m~\\AppData\\Local\\Programs\\Python\\Python312\\Lib\\site-packages\\tensorflow\\python\\eager\\backprop.py:45\u001B[0m\n\u001B[0;32m     43\u001B[0m \u001B[38;5;28;01mfrom\u001B[39;00m \u001B[38;5;21;01mtensorflow\u001B[39;00m\u001B[38;5;21;01m.\u001B[39;00m\u001B[38;5;21;01mpython\u001B[39;00m\u001B[38;5;21;01m.\u001B[39;00m\u001B[38;5;21;01mops\u001B[39;00m \u001B[38;5;28;01mimport\u001B[39;00m gen_array_ops\n\u001B[0;32m     44\u001B[0m \u001B[38;5;28;01mfrom\u001B[39;00m \u001B[38;5;21;01mtensorflow\u001B[39;00m\u001B[38;5;21;01m.\u001B[39;00m\u001B[38;5;21;01mpython\u001B[39;00m\u001B[38;5;21;01m.\u001B[39;00m\u001B[38;5;21;01mops\u001B[39;00m \u001B[38;5;28;01mimport\u001B[39;00m gen_math_ops\n\u001B[1;32m---> 45\u001B[0m \u001B[38;5;28;01mfrom\u001B[39;00m \u001B[38;5;21;01mtensorflow\u001B[39;00m\u001B[38;5;21;01m.\u001B[39;00m\u001B[38;5;21;01mpython\u001B[39;00m\u001B[38;5;21;01m.\u001B[39;00m\u001B[38;5;21;01mops\u001B[39;00m \u001B[38;5;28;01mimport\u001B[39;00m gradients_impl  \u001B[38;5;66;03m# pylint: disable=unused-import\u001B[39;00m\n\u001B[0;32m     46\u001B[0m \u001B[38;5;28;01mfrom\u001B[39;00m \u001B[38;5;21;01mtensorflow\u001B[39;00m\u001B[38;5;21;01m.\u001B[39;00m\u001B[38;5;21;01mpython\u001B[39;00m\u001B[38;5;21;01m.\u001B[39;00m\u001B[38;5;21;01mops\u001B[39;00m \u001B[38;5;28;01mimport\u001B[39;00m resource_variable_ops\n\u001B[0;32m     47\u001B[0m \u001B[38;5;28;01mfrom\u001B[39;00m \u001B[38;5;21;01mtensorflow\u001B[39;00m\u001B[38;5;21;01m.\u001B[39;00m\u001B[38;5;21;01mpython\u001B[39;00m\u001B[38;5;21;01m.\u001B[39;00m\u001B[38;5;21;01mops\u001B[39;00m\u001B[38;5;21;01m.\u001B[39;00m\u001B[38;5;21;01mparallel_for\u001B[39;00m \u001B[38;5;28;01mimport\u001B[39;00m control_flow_ops \u001B[38;5;28;01mas\u001B[39;00m pfor_ops\n",
      "File \u001B[1;32m~\\AppData\\Local\\Programs\\Python\\Python312\\Lib\\site-packages\\tensorflow\\python\\ops\\gradients_impl.py:20\u001B[0m\n\u001B[0;32m     18\u001B[0m \u001B[38;5;28;01mfrom\u001B[39;00m \u001B[38;5;21;01mtensorflow\u001B[39;00m\u001B[38;5;21;01m.\u001B[39;00m\u001B[38;5;21;01mpython\u001B[39;00m\u001B[38;5;21;01m.\u001B[39;00m\u001B[38;5;21;01mframework\u001B[39;00m \u001B[38;5;28;01mimport\u001B[39;00m dtypes\n\u001B[0;32m     19\u001B[0m \u001B[38;5;28;01mfrom\u001B[39;00m \u001B[38;5;21;01mtensorflow\u001B[39;00m\u001B[38;5;21;01m.\u001B[39;00m\u001B[38;5;21;01mpython\u001B[39;00m\u001B[38;5;21;01m.\u001B[39;00m\u001B[38;5;21;01mframework\u001B[39;00m \u001B[38;5;28;01mimport\u001B[39;00m ops\n\u001B[1;32m---> 20\u001B[0m \u001B[38;5;28;01mfrom\u001B[39;00m \u001B[38;5;21;01mtensorflow\u001B[39;00m\u001B[38;5;21;01m.\u001B[39;00m\u001B[38;5;21;01mpython\u001B[39;00m\u001B[38;5;21;01m.\u001B[39;00m\u001B[38;5;21;01mops\u001B[39;00m \u001B[38;5;28;01mimport\u001B[39;00m array_grad  \u001B[38;5;66;03m# pylint: disable=unused-import\u001B[39;00m\n\u001B[0;32m     21\u001B[0m \u001B[38;5;28;01mfrom\u001B[39;00m \u001B[38;5;21;01mtensorflow\u001B[39;00m\u001B[38;5;21;01m.\u001B[39;00m\u001B[38;5;21;01mpython\u001B[39;00m\u001B[38;5;21;01m.\u001B[39;00m\u001B[38;5;21;01mops\u001B[39;00m \u001B[38;5;28;01mimport\u001B[39;00m array_ops\n\u001B[0;32m     22\u001B[0m \u001B[38;5;28;01mfrom\u001B[39;00m \u001B[38;5;21;01mtensorflow\u001B[39;00m\u001B[38;5;21;01m.\u001B[39;00m\u001B[38;5;21;01mpython\u001B[39;00m\u001B[38;5;21;01m.\u001B[39;00m\u001B[38;5;21;01mops\u001B[39;00m \u001B[38;5;28;01mimport\u001B[39;00m check_ops  \u001B[38;5;66;03m# pylint: disable=unused-import\u001B[39;00m\n",
      "File \u001B[1;32m~\\AppData\\Local\\Programs\\Python\\Python312\\Lib\\site-packages\\tensorflow\\python\\ops\\array_grad.py:1187\u001B[0m\n\u001B[0;32m   1183\u001B[0m   y_grad \u001B[38;5;241m=\u001B[39m array_ops\u001B[38;5;241m.\u001B[39mgather_nd(grad \u001B[38;5;241m/\u001B[39m indicators, indices) \u001B[38;5;241m*\u001B[39m y_indicators\n\u001B[0;32m   1184\u001B[0m   \u001B[38;5;28;01mreturn\u001B[39;00m [x_grad, \u001B[38;5;28;01mNone\u001B[39;00m, y_grad]\n\u001B[1;32m-> 1187\u001B[0m \u001B[38;5;129;43m@ops\u001B[39;49m\u001B[38;5;241;43m.\u001B[39;49m\u001B[43mRegisterGradient\u001B[49m\u001B[43m(\u001B[49m\u001B[38;5;124;43m\"\u001B[39;49m\u001B[38;5;124;43mTensorScatterMax\u001B[39;49m\u001B[38;5;124;43m\"\u001B[39;49m\u001B[43m)\u001B[49m\n\u001B[0;32m   1188\u001B[0m \u001B[38;5;28;43;01mdef\u001B[39;49;00m\u001B[43m \u001B[49m\u001B[38;5;21;43m_TensorScatterMaxGrad\u001B[39;49m\u001B[43m(\u001B[49m\u001B[43mop\u001B[49m\u001B[43m:\u001B[49m\u001B[43m \u001B[49m\u001B[43mops\u001B[49m\u001B[38;5;241;43m.\u001B[39;49m\u001B[43mOperation\u001B[49m\u001B[43m,\u001B[49m\u001B[43m \u001B[49m\u001B[43mgrad\u001B[49m\u001B[43m)\u001B[49m\u001B[43m:\u001B[49m\n\u001B[0;32m   1189\u001B[0m \u001B[38;5;250;43m  \u001B[39;49m\u001B[38;5;124;43;03m\"\"\"Gradient for TensorScatterMax op.\"\"\"\u001B[39;49;00m\n\u001B[0;32m   1190\u001B[0m \u001B[43m  \u001B[49m\u001B[38;5;28;43;01mreturn\u001B[39;49;00m\u001B[43m \u001B[49m\u001B[43m_TensorScatterMinOrMaxGrad\u001B[49m\u001B[43m(\u001B[49m\u001B[43mop\u001B[49m\u001B[43m,\u001B[49m\u001B[43m \u001B[49m\u001B[43mgrad\u001B[49m\u001B[43m)\u001B[49m\n",
      "File \u001B[1;32m~\\AppData\\Local\\Programs\\Python\\Python312\\Lib\\site-packages\\tensorflow\\python\\framework\\ops.py:1699\u001B[0m, in \u001B[0;36mRegisterGradient.__call__\u001B[1;34m(self, f)\u001B[0m\n\u001B[0;32m   1697\u001B[0m \u001B[38;5;28;01mdef\u001B[39;00m \u001B[38;5;21m__call__\u001B[39m(\u001B[38;5;28mself\u001B[39m, f: _T) \u001B[38;5;241m-\u001B[39m\u001B[38;5;241m>\u001B[39m _T:\n\u001B[0;32m   1698\u001B[0m \u001B[38;5;250m  \u001B[39m\u001B[38;5;124;03m\"\"\"Registers the function `f` as gradient function for `op_type`.\"\"\"\u001B[39;00m\n\u001B[1;32m-> 1699\u001B[0m   \u001B[43mgradient_registry\u001B[49m\u001B[38;5;241;43m.\u001B[39;49m\u001B[43mregister\u001B[49m\u001B[43m(\u001B[49m\u001B[43mf\u001B[49m\u001B[43m,\u001B[49m\u001B[43m \u001B[49m\u001B[38;5;28;43mself\u001B[39;49m\u001B[38;5;241;43m.\u001B[39;49m\u001B[43m_op_type\u001B[49m\u001B[43m)\u001B[49m\n\u001B[0;32m   1700\u001B[0m   \u001B[38;5;28;01mreturn\u001B[39;00m f\n",
      "File \u001B[1;32m~\\AppData\\Local\\Programs\\Python\\Python312\\Lib\\site-packages\\tensorflow\\python\\framework\\registry.py:65\u001B[0m, in \u001B[0;36mRegistry.register\u001B[1;34m(self, candidate, name)\u001B[0m\n\u001B[0;32m     62\u001B[0m logging\u001B[38;5;241m.\u001B[39mvlog(\u001B[38;5;241m1\u001B[39m, \u001B[38;5;124m\"\u001B[39m\u001B[38;5;124mRegistering \u001B[39m\u001B[38;5;132;01m%s\u001B[39;00m\u001B[38;5;124m (\u001B[39m\u001B[38;5;132;01m%s\u001B[39;00m\u001B[38;5;124m) in \u001B[39m\u001B[38;5;132;01m%s\u001B[39;00m\u001B[38;5;124m.\u001B[39m\u001B[38;5;124m\"\u001B[39m, name, candidate, \u001B[38;5;28mself\u001B[39m\u001B[38;5;241m.\u001B[39m_name)\n\u001B[0;32m     63\u001B[0m \u001B[38;5;66;03m# stack trace is [this_function, Register(), user_function,...]\u001B[39;00m\n\u001B[0;32m     64\u001B[0m \u001B[38;5;66;03m# so the user function is #2.\u001B[39;00m\n\u001B[1;32m---> 65\u001B[0m stack \u001B[38;5;241m=\u001B[39m \u001B[43mtraceback\u001B[49m\u001B[38;5;241;43m.\u001B[39;49m\u001B[43mextract_stack\u001B[49m\u001B[43m(\u001B[49m\u001B[43mlimit\u001B[49m\u001B[38;5;241;43m=\u001B[39;49m\u001B[38;5;241;43m3\u001B[39;49m\u001B[43m)\u001B[49m\n\u001B[0;32m     66\u001B[0m stack_index \u001B[38;5;241m=\u001B[39m \u001B[38;5;28mmin\u001B[39m(\u001B[38;5;241m2\u001B[39m, \u001B[38;5;28mlen\u001B[39m(stack) \u001B[38;5;241m-\u001B[39m \u001B[38;5;241m1\u001B[39m)\n\u001B[0;32m     67\u001B[0m \u001B[38;5;28;01mif\u001B[39;00m stack_index \u001B[38;5;241m>\u001B[39m\u001B[38;5;241m=\u001B[39m \u001B[38;5;241m0\u001B[39m:\n",
      "File \u001B[1;32m~\\AppData\\Local\\Programs\\Python\\Python312\\Lib\\traceback.py:232\u001B[0m, in \u001B[0;36mextract_stack\u001B[1;34m(f, limit)\u001B[0m\n\u001B[0;32m    230\u001B[0m \u001B[38;5;28;01mif\u001B[39;00m f \u001B[38;5;129;01mis\u001B[39;00m \u001B[38;5;28;01mNone\u001B[39;00m:\n\u001B[0;32m    231\u001B[0m     f \u001B[38;5;241m=\u001B[39m sys\u001B[38;5;241m.\u001B[39m_getframe()\u001B[38;5;241m.\u001B[39mf_back\n\u001B[1;32m--> 232\u001B[0m stack \u001B[38;5;241m=\u001B[39m \u001B[43mStackSummary\u001B[49m\u001B[38;5;241;43m.\u001B[39;49m\u001B[43mextract\u001B[49m\u001B[43m(\u001B[49m\u001B[43mwalk_stack\u001B[49m\u001B[43m(\u001B[49m\u001B[43mf\u001B[49m\u001B[43m)\u001B[49m\u001B[43m,\u001B[49m\u001B[43m \u001B[49m\u001B[43mlimit\u001B[49m\u001B[38;5;241;43m=\u001B[39;49m\u001B[43mlimit\u001B[49m\u001B[43m)\u001B[49m\n\u001B[0;32m    233\u001B[0m stack\u001B[38;5;241m.\u001B[39mreverse()\n\u001B[0;32m    234\u001B[0m \u001B[38;5;28;01mreturn\u001B[39;00m stack\n",
      "File \u001B[1;32m~\\AppData\\Local\\Programs\\Python\\Python312\\Lib\\traceback.py:395\u001B[0m, in \u001B[0;36mStackSummary.extract\u001B[1;34m(klass, frame_gen, limit, lookup_lines, capture_locals)\u001B[0m\n\u001B[0;32m    392\u001B[0m     \u001B[38;5;28;01mfor\u001B[39;00m f, lineno \u001B[38;5;129;01min\u001B[39;00m frame_gen:\n\u001B[0;32m    393\u001B[0m         \u001B[38;5;28;01myield\u001B[39;00m f, (lineno, \u001B[38;5;28;01mNone\u001B[39;00m, \u001B[38;5;28;01mNone\u001B[39;00m, \u001B[38;5;28;01mNone\u001B[39;00m)\n\u001B[1;32m--> 395\u001B[0m \u001B[38;5;28;01mreturn\u001B[39;00m \u001B[43mklass\u001B[49m\u001B[38;5;241;43m.\u001B[39;49m\u001B[43m_extract_from_extended_frame_gen\u001B[49m\u001B[43m(\u001B[49m\n\u001B[0;32m    396\u001B[0m \u001B[43m    \u001B[49m\u001B[43mextended_frame_gen\u001B[49m\u001B[43m(\u001B[49m\u001B[43m)\u001B[49m\u001B[43m,\u001B[49m\u001B[43m \u001B[49m\u001B[43mlimit\u001B[49m\u001B[38;5;241;43m=\u001B[39;49m\u001B[43mlimit\u001B[49m\u001B[43m,\u001B[49m\u001B[43m \u001B[49m\u001B[43mlookup_lines\u001B[49m\u001B[38;5;241;43m=\u001B[39;49m\u001B[43mlookup_lines\u001B[49m\u001B[43m,\u001B[49m\n\u001B[0;32m    397\u001B[0m \u001B[43m    \u001B[49m\u001B[43mcapture_locals\u001B[49m\u001B[38;5;241;43m=\u001B[39;49m\u001B[43mcapture_locals\u001B[49m\u001B[43m)\u001B[49m\n",
      "File \u001B[1;32m~\\AppData\\Local\\Programs\\Python\\Python312\\Lib\\traceback.py:434\u001B[0m, in \u001B[0;36mStackSummary._extract_from_extended_frame_gen\u001B[1;34m(klass, frame_gen, limit, lookup_lines, capture_locals)\u001B[0m\n\u001B[0;32m    430\u001B[0m     result\u001B[38;5;241m.\u001B[39mappend(FrameSummary(\n\u001B[0;32m    431\u001B[0m         filename, lineno, name, lookup_line\u001B[38;5;241m=\u001B[39m\u001B[38;5;28;01mFalse\u001B[39;00m, \u001B[38;5;28mlocals\u001B[39m\u001B[38;5;241m=\u001B[39mf_locals,\n\u001B[0;32m    432\u001B[0m         end_lineno\u001B[38;5;241m=\u001B[39mend_lineno, colno\u001B[38;5;241m=\u001B[39mcolno, end_colno\u001B[38;5;241m=\u001B[39mend_colno))\n\u001B[0;32m    433\u001B[0m \u001B[38;5;28;01mfor\u001B[39;00m filename \u001B[38;5;129;01min\u001B[39;00m fnames:\n\u001B[1;32m--> 434\u001B[0m     \u001B[43mlinecache\u001B[49m\u001B[38;5;241;43m.\u001B[39;49m\u001B[43mcheckcache\u001B[49m\u001B[43m(\u001B[49m\u001B[43mfilename\u001B[49m\u001B[43m)\u001B[49m\n\u001B[0;32m    435\u001B[0m \u001B[38;5;66;03m# If immediate lookup was desired, trigger lookups now.\u001B[39;00m\n\u001B[0;32m    436\u001B[0m \u001B[38;5;28;01mif\u001B[39;00m lookup_lines:\n",
      "File \u001B[1;32m~\\AppData\\Local\\Programs\\Python\\Python312\\Lib\\linecache.py:72\u001B[0m, in \u001B[0;36mcheckcache\u001B[1;34m(filename)\u001B[0m\n\u001B[0;32m     70\u001B[0m     \u001B[38;5;28;01mcontinue\u001B[39;00m   \u001B[38;5;66;03m# no-op for files loaded via a __loader__\u001B[39;00m\n\u001B[0;32m     71\u001B[0m \u001B[38;5;28;01mtry\u001B[39;00m:\n\u001B[1;32m---> 72\u001B[0m     stat \u001B[38;5;241m=\u001B[39m \u001B[43mos\u001B[49m\u001B[38;5;241;43m.\u001B[39;49m\u001B[43mstat\u001B[49m\u001B[43m(\u001B[49m\u001B[43mfullname\u001B[49m\u001B[43m)\u001B[49m\n\u001B[0;32m     73\u001B[0m \u001B[38;5;28;01mexcept\u001B[39;00m \u001B[38;5;167;01mOSError\u001B[39;00m:\n\u001B[0;32m     74\u001B[0m     cache\u001B[38;5;241m.\u001B[39mpop(filename, \u001B[38;5;28;01mNone\u001B[39;00m)\n",
      "\u001B[1;31mKeyboardInterrupt\u001B[0m: "
     ]
    }
   ],
   "source": [
    "import tensorflow as tf\n",
    "\n",
    "def crear_modelo_simple():\n",
    "    modelo = tf.keras.Sequential([\n",
    "        tf.keras.layers.Dense(128, activation='relu', input_shape=(len(feature_names),)),  # Capa oculta con 128 neuronas\n",
    "        tf.keras.layers.Dense(1, activation='sigmoid')  # Capa de salida con 1 neurona para clasificación binaria\n",
    "    ])\n",
    "    modelo.compile(optimizer='adam',\n",
    "                   loss='binary_crossentropy',\n",
    "                   metrics=['accuracy'])\n",
    "    return modelo"
   ]
  },
  {
   "cell_type": "markdown",
   "metadata": {},
   "source": [
    "##### Red neuronal compleja"
   ]
  },
  {
   "cell_type": "code",
   "execution_count": null,
   "metadata": {
    "ExecuteTime": {
     "end_time": "2024-04-25T10:54:38.882736800Z",
     "start_time": "2024-04-25T10:54:38.856739300Z"
    }
   },
   "outputs": [],
   "source": [
    "def crear_modelo_complejo():\n",
    "    modelo = tf.keras.Sequential([\n",
    "        tf.keras.layers.Dense(256, activation='relu', input_shape=(len(feature_names),)),  # Capa oculta con 256 neuronas\n",
    "        tf.keras.layers.Dense(128, activation='relu'),  # Capa oculta con 128 neuronas\n",
    "        tf.keras.layers.Dense(1, activation='sigmoid')  # Capa de salida con 1 neurona para clasificación binaria\n",
    "    ])\n",
    "    modelo.compile(optimizer='adam',\n",
    "                   loss='binary_crossentropy',\n",
    "                   metrics=['accuracy'])\n",
    "    return modelo"
   ]
  },
  {
   "cell_type": "markdown",
   "metadata": {},
   "source": [
    "##### Red Neuronal compleja con dropout"
   ]
  },
  {
   "cell_type": "code",
   "execution_count": null,
   "metadata": {
    "ExecuteTime": {
     "start_time": "2024-04-25T10:45:22.980385100Z"
    }
   },
   "outputs": [],
   "source": [
    "from tensorflow.python.keras.callbacks import EarlyStopping\n",
    "\n",
    "\n",
    "def crear_modelo_complejo_dropout():\n",
    "    modelo = tf.keras.Sequential([\n",
    "        tf.keras.layers.Dense(128, activation='relu', input_shape=(len(feature_names),)),  # Capa oculta con 256 neuronas\n",
    "        tf.keras.layers.Dropout(0.7),  # Dropout para prevenir overfitting\n",
    "        tf.keras.layers.Dense(128, activation='relu'),  # Capa oculta con 128 neuronas\n",
    "        tf.keras.layers.Dropout(0.7),  # Dropout para prevenir overfitting\n",
    "        tf.keras.layers.Dense(1, activation='sigmoid')  # Capa de salida con 1 neurona para clasificación binaria\n",
    "    ])\n",
    "    modelo.compile(optimizer='adam',\n",
    "                   loss='binary_crossentropy',\n",
    "                   metrics=['accuracy'])\n",
    "    return modelo"
   ]
  },
  {
   "cell_type": "code",
   "execution_count": null,
   "outputs": [],
   "source": [
    "def pintar_grafica(history, epo):\n",
    "    acc = history.history['accuracy']\n",
    "    val_acc = history.history['val_accuracy']\n",
    "\n",
    "    loss = history.history['loss']\n",
    "    val_loss = history.history['val_loss']\n",
    "\n",
    "    epochs_range = range(epo)\n",
    "\n",
    "    plt.figure(figsize=(8, 8))\n",
    "    plt.subplot(1, 2, 1)\n",
    "    plt.plot(epochs_range, acc, label='Training Accuracy')\n",
    "    plt.plot(epochs_range, val_acc, label='Validation Accuracy')\n",
    "    plt.legend(loc='lower right')\n",
    "    plt.title('Training and Validation Accuracy')\n",
    "\n",
    "    plt.subplot(1, 2, 2)\n",
    "    plt.plot(epochs_range, loss, label='Training Loss')\n",
    "    plt.plot(epochs_range, val_loss, label='Validation Loss')\n",
    "    plt.legend(loc='upper right')\n",
    "    plt.title('Training and Validation Loss')\n",
    "    plt.show()"
   ],
   "metadata": {
    "collapsed": false,
    "ExecuteTime": {
     "start_time": "2024-04-25T10:45:22.982385100Z"
    }
   }
  },
  {
   "cell_type": "code",
   "execution_count": null,
   "metadata": {
    "ExecuteTime": {
     "start_time": "2024-04-25T10:45:22.985386600Z"
    }
   },
   "outputs": [],
   "source": [
    "import numpy as np\n",
    "from tensorflow.python.keras.callbacks import EarlyStopping\n",
    "from matplotlib import pyplot as plt\n",
    "\n",
    "\n",
    "# Suponiendo que tienes tus datos en X_train, y_train, X_test, y_test\n",
    "\n",
    "# Crear una lista de modelos y sus nombres\n",
    "modelos = [crear_modelo_simple(), crear_modelo_complejo(), crear_modelo_complejo_dropout()]\n",
    "nombres_modelos = [\"Red Simple\", \"Red Compleja\", \"Red Compleja con Dropout\"]\n",
    "\n",
    "# Inicializar variables para almacenar los resultados\n",
    "mejor_modelo = None\n",
    "mejor_accuracy = 0.0\n",
    "\n",
    "# Iterar sobre los modelos\n",
    "for nombre, modelo in zip(nombres_modelos, modelos):\n",
    "    print(f\"Entrenando {nombre}...\")\n",
    "\n",
    "    early_stopping = EarlyStopping(monitor='val_loss', patience=10)\n",
    "    history = modelo.fit(X_train_scaled, y_train, epochs=100, batch_size=32, verbose=0, callbacks=[early_stopping], validation_data=(X_val_scaled, y_val))  # Entrenar el modelo\n",
    "    num_epocas_early_stopping = early_stopping.stopped_epoch + 1\n",
    "    pintar_grafica(history, num_epocas_early_stopping)\n",
    "    # Evaluar el modelo en el conjunto de prueba\n",
    "    _, accuracy = modelo.evaluate(X_val_scaled, y_val, verbose=0)\n",
    "    print(f\"Exactitud de {nombre}: {accuracy}\")\n",
    "    acc_dict[nombre] = accuracy\n",
    "\n",
    "    \n",
    "    # Actualizar el mejor modelo si es necesario\n",
    "    if accuracy > mejor_accuracy:\n",
    "        mejor_modelo = nombre\n",
    "        mejor_accuracy = accuracy\n",
    "\n",
    "# Imprimir el mejor modelo\n",
    "print(f\"\\nEl mejor modelo es: {mejor_modelo} con una exactitud de {mejor_accuracy}\")\n"
   ]
  },
  {
   "cell_type": "markdown",
   "metadata": {},
   "source": [
    "### Conclusiones"
   ]
  },
  {
   "cell_type": "code",
   "execution_count": null,
   "metadata": {
    "collapsed": false,
    "ExecuteTime": {
     "start_time": "2024-04-25T10:45:22.987387100Z"
    }
   },
   "outputs": [],
   "source": [
    "print(acc_dict)"
   ]
  },
  {
   "cell_type": "markdown",
   "source": [
    "### Prueba Real"
   ],
   "metadata": {
    "collapsed": false
   }
  },
  {
   "cell_type": "code",
   "execution_count": null,
   "outputs": [],
   "source": [],
   "metadata": {
    "collapsed": false,
    "ExecuteTime": {
     "start_time": "2024-04-25T10:45:22.989385800Z"
    }
   }
  }
 ],
 "metadata": {
  "kernelspec": {
   "display_name": "Python 3",
   "language": "python",
   "name": "python3"
  },
  "language_info": {
   "codemirror_mode": {
    "name": "ipython",
    "version": 3
   },
   "file_extension": ".py",
   "mimetype": "text/x-python",
   "name": "python",
   "nbconvert_exporter": "python",
   "pygments_lexer": "ipython3",
   "version": "3.11.8"
  }
 },
 "nbformat": 4,
 "nbformat_minor": 0
}
